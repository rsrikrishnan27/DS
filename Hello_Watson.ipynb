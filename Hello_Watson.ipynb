{
  "nbformat": 4,
  "nbformat_minor": 0,
  "metadata": {
    "colab": {
      "name": "Hello Watson.ipynb",
      "provenance": [],
      "collapsed_sections": [],
      "authorship_tag": "ABX9TyP1REfDZTqzg9VgFg8WhVnW",
      "include_colab_link": true
    },
    "kernelspec": {
      "name": "python3",
      "display_name": "Python 3"
    },
    "language_info": {
      "name": "python"
    },
    "accelerator": "GPU"
  },
  "cells": [
    {
      "cell_type": "markdown",
      "metadata": {
        "id": "view-in-github",
        "colab_type": "text"
      },
      "source": [
        "<a href=\"https://colab.research.google.com/github/rsrikrishnan27/DS/blob/main/Hello_Watson.ipynb\" target=\"_parent\"><img src=\"https://colab.research.google.com/assets/colab-badge.svg\" alt=\"Open In Colab\"/></a>"
      ]
    },
    {
      "cell_type": "markdown",
      "source": [
        "# Hypothesis testing using NLI - LSTM and Bi-directional LSTM"
      ],
      "metadata": {
        "id": "1qFn9QLWfQ0M"
      }
    },
    {
      "cell_type": "code",
      "execution_count": null,
      "metadata": {
        "id": "F-s2tHtJOf2G"
      },
      "outputs": [],
      "source": [
        "## Install the necessary libraries\n",
        "\n",
        "import numpy as np \n",
        "import pandas as pd \n",
        "\n",
        "import re\n",
        "import nltk\n",
        "from gensim.models import word2vec\n",
        "\n",
        "from sklearn.manifold import TSNE\n",
        "import matplotlib.pyplot as plt\n",
        "import seaborn as sns\n",
        "%matplotlib inline\n",
        "\n",
        "from sklearn.feature_extraction.text import TfidfVectorizer, CountVectorizer\n",
        "from sklearn.model_selection import StratifiedKFold\n",
        "from sklearn.decomposition import TruncatedSVD\n",
        "from sklearn import ensemble, metrics, model_selection, naive_bayes\n",
        "from sklearn.preprocessing import LabelEncoder\n",
        "\n",
        "import tensorflow as tf\n",
        "import keras\n",
        "from tensorflow.math import softplus, tanh\n",
        "from tensorflow.keras.utils import get_custom_objects\n",
        "from tensorflow.keras import Input, Model, Sequential\n",
        "from tensorflow.keras.layers import Dense, Dropout, Activation, LSTM, Embedding, GlobalAveragePooling1D\n",
        "from tensorflow.keras.optimizers import Adam\n",
        "from keras.preprocessing.text import Tokenizer\n",
        "from keras.preprocessing.sequence import pad_sequences\n",
        "from tensorflow.keras import regularizers\n",
        "\n",
        "from sklearn.model_selection import train_test_split\n",
        "import torch\n",
        "import keras\n",
        "from sklearn.metrics import confusion_matrix\n",
        "from sklearn.metrics import classification_report"
      ]
    },
    {
      "cell_type": "code",
      "source": [
        "# importing Data\n",
        "df = pd.read_csv('nli_watson.csv')"
      ],
      "metadata": {
        "id": "7SCa60JlQ96R"
      },
      "execution_count": null,
      "outputs": []
    },
    {
      "cell_type": "code",
      "source": [
        "df"
      ],
      "metadata": {
        "colab": {
          "base_uri": "https://localhost:8080/",
          "height": 424
        },
        "id": "NAWu6NIZ9uzp",
        "outputId": "e8892034-5a78-4d35-ae11-b527e99fad52"
      },
      "execution_count": null,
      "outputs": [
        {
          "output_type": "execute_result",
          "data": {
            "text/plain": [
              "               id                                            premise  \\\n",
              "0      5130fd2cb5  and these comments were considered in formulat...   \n",
              "1      5b72532a0b  These are issues that we wrestle with in pract...   \n",
              "2      3931fbe82a  Des petites choses comme celles-là font une di...   \n",
              "3      5622f0c60b  you know they can't really defend themselves l...   \n",
              "4      86aaa48b45  ในการเล่นบทบาทสมมุติก็เช่นกัน โอกาสที่จะได้แสด...   \n",
              "...           ...                                                ...   \n",
              "12115  2b78e2a914  The results of even the most well designed epi...   \n",
              "12116  7e9943d152  But there are two kinds of  the pleasure of do...   \n",
              "12117  5085923e6c  The important thing is to realize that it's wa...   \n",
              "12118  fc8e2fd1fe  At the west end is a detailed model of the who...   \n",
              "12119  44301dfb14  For himself he chose Atat??rk, or Father of th...   \n",
              "\n",
              "                                              hypothesis lang_abv language  \\\n",
              "0      The rules developed in the interim were put to...       en  English   \n",
              "1      Practice groups are not permitted to work on t...       en  English   \n",
              "2                  J'essayais d'accomplir quelque chose.       fr   French   \n",
              "3      They can't defend themselves because of their ...       en  English   \n",
              "4        เด็กสามารถเห็นได้ว่าชาติพันธุ์แตกต่างกันอย่างไร       th     Thai   \n",
              "...                                                  ...      ...      ...   \n",
              "12115  All studies have the same amount of uncertaint...       en  English   \n",
              "12116  But there are two kinds of the pleasure of doi...       en  English   \n",
              "12117                   It cannot be moved, now or ever.       en  English   \n",
              "12118       The model temple complex is at the east end.       en  English   \n",
              "12119      Ataturk was the father of the Turkish nation.       en  English   \n",
              "\n",
              "       label  \n",
              "0          0  \n",
              "1          2  \n",
              "2          0  \n",
              "3          0  \n",
              "4          1  \n",
              "...      ...  \n",
              "12115      2  \n",
              "12116      0  \n",
              "12117      2  \n",
              "12118      2  \n",
              "12119      0  \n",
              "\n",
              "[12120 rows x 6 columns]"
            ],
            "text/html": [
              "\n",
              "  <div id=\"df-bf7eb9ba-8faf-4a98-9124-de0f22181ffc\">\n",
              "    <div class=\"colab-df-container\">\n",
              "      <div>\n",
              "<style scoped>\n",
              "    .dataframe tbody tr th:only-of-type {\n",
              "        vertical-align: middle;\n",
              "    }\n",
              "\n",
              "    .dataframe tbody tr th {\n",
              "        vertical-align: top;\n",
              "    }\n",
              "\n",
              "    .dataframe thead th {\n",
              "        text-align: right;\n",
              "    }\n",
              "</style>\n",
              "<table border=\"1\" class=\"dataframe\">\n",
              "  <thead>\n",
              "    <tr style=\"text-align: right;\">\n",
              "      <th></th>\n",
              "      <th>id</th>\n",
              "      <th>premise</th>\n",
              "      <th>hypothesis</th>\n",
              "      <th>lang_abv</th>\n",
              "      <th>language</th>\n",
              "      <th>label</th>\n",
              "    </tr>\n",
              "  </thead>\n",
              "  <tbody>\n",
              "    <tr>\n",
              "      <th>0</th>\n",
              "      <td>5130fd2cb5</td>\n",
              "      <td>and these comments were considered in formulat...</td>\n",
              "      <td>The rules developed in the interim were put to...</td>\n",
              "      <td>en</td>\n",
              "      <td>English</td>\n",
              "      <td>0</td>\n",
              "    </tr>\n",
              "    <tr>\n",
              "      <th>1</th>\n",
              "      <td>5b72532a0b</td>\n",
              "      <td>These are issues that we wrestle with in pract...</td>\n",
              "      <td>Practice groups are not permitted to work on t...</td>\n",
              "      <td>en</td>\n",
              "      <td>English</td>\n",
              "      <td>2</td>\n",
              "    </tr>\n",
              "    <tr>\n",
              "      <th>2</th>\n",
              "      <td>3931fbe82a</td>\n",
              "      <td>Des petites choses comme celles-là font une di...</td>\n",
              "      <td>J'essayais d'accomplir quelque chose.</td>\n",
              "      <td>fr</td>\n",
              "      <td>French</td>\n",
              "      <td>0</td>\n",
              "    </tr>\n",
              "    <tr>\n",
              "      <th>3</th>\n",
              "      <td>5622f0c60b</td>\n",
              "      <td>you know they can't really defend themselves l...</td>\n",
              "      <td>They can't defend themselves because of their ...</td>\n",
              "      <td>en</td>\n",
              "      <td>English</td>\n",
              "      <td>0</td>\n",
              "    </tr>\n",
              "    <tr>\n",
              "      <th>4</th>\n",
              "      <td>86aaa48b45</td>\n",
              "      <td>ในการเล่นบทบาทสมมุติก็เช่นกัน โอกาสที่จะได้แสด...</td>\n",
              "      <td>เด็กสามารถเห็นได้ว่าชาติพันธุ์แตกต่างกันอย่างไร</td>\n",
              "      <td>th</td>\n",
              "      <td>Thai</td>\n",
              "      <td>1</td>\n",
              "    </tr>\n",
              "    <tr>\n",
              "      <th>...</th>\n",
              "      <td>...</td>\n",
              "      <td>...</td>\n",
              "      <td>...</td>\n",
              "      <td>...</td>\n",
              "      <td>...</td>\n",
              "      <td>...</td>\n",
              "    </tr>\n",
              "    <tr>\n",
              "      <th>12115</th>\n",
              "      <td>2b78e2a914</td>\n",
              "      <td>The results of even the most well designed epi...</td>\n",
              "      <td>All studies have the same amount of uncertaint...</td>\n",
              "      <td>en</td>\n",
              "      <td>English</td>\n",
              "      <td>2</td>\n",
              "    </tr>\n",
              "    <tr>\n",
              "      <th>12116</th>\n",
              "      <td>7e9943d152</td>\n",
              "      <td>But there are two kinds of  the pleasure of do...</td>\n",
              "      <td>But there are two kinds of the pleasure of doi...</td>\n",
              "      <td>en</td>\n",
              "      <td>English</td>\n",
              "      <td>0</td>\n",
              "    </tr>\n",
              "    <tr>\n",
              "      <th>12117</th>\n",
              "      <td>5085923e6c</td>\n",
              "      <td>The important thing is to realize that it's wa...</td>\n",
              "      <td>It cannot be moved, now or ever.</td>\n",
              "      <td>en</td>\n",
              "      <td>English</td>\n",
              "      <td>2</td>\n",
              "    </tr>\n",
              "    <tr>\n",
              "      <th>12118</th>\n",
              "      <td>fc8e2fd1fe</td>\n",
              "      <td>At the west end is a detailed model of the who...</td>\n",
              "      <td>The model temple complex is at the east end.</td>\n",
              "      <td>en</td>\n",
              "      <td>English</td>\n",
              "      <td>2</td>\n",
              "    </tr>\n",
              "    <tr>\n",
              "      <th>12119</th>\n",
              "      <td>44301dfb14</td>\n",
              "      <td>For himself he chose Atat??rk, or Father of th...</td>\n",
              "      <td>Ataturk was the father of the Turkish nation.</td>\n",
              "      <td>en</td>\n",
              "      <td>English</td>\n",
              "      <td>0</td>\n",
              "    </tr>\n",
              "  </tbody>\n",
              "</table>\n",
              "<p>12120 rows × 6 columns</p>\n",
              "</div>\n",
              "      <button class=\"colab-df-convert\" onclick=\"convertToInteractive('df-bf7eb9ba-8faf-4a98-9124-de0f22181ffc')\"\n",
              "              title=\"Convert this dataframe to an interactive table.\"\n",
              "              style=\"display:none;\">\n",
              "        \n",
              "  <svg xmlns=\"http://www.w3.org/2000/svg\" height=\"24px\"viewBox=\"0 0 24 24\"\n",
              "       width=\"24px\">\n",
              "    <path d=\"M0 0h24v24H0V0z\" fill=\"none\"/>\n",
              "    <path d=\"M18.56 5.44l.94 2.06.94-2.06 2.06-.94-2.06-.94-.94-2.06-.94 2.06-2.06.94zm-11 1L8.5 8.5l.94-2.06 2.06-.94-2.06-.94L8.5 2.5l-.94 2.06-2.06.94zm10 10l.94 2.06.94-2.06 2.06-.94-2.06-.94-.94-2.06-.94 2.06-2.06.94z\"/><path d=\"M17.41 7.96l-1.37-1.37c-.4-.4-.92-.59-1.43-.59-.52 0-1.04.2-1.43.59L10.3 9.45l-7.72 7.72c-.78.78-.78 2.05 0 2.83L4 21.41c.39.39.9.59 1.41.59.51 0 1.02-.2 1.41-.59l7.78-7.78 2.81-2.81c.8-.78.8-2.07 0-2.86zM5.41 20L4 18.59l7.72-7.72 1.47 1.35L5.41 20z\"/>\n",
              "  </svg>\n",
              "      </button>\n",
              "      \n",
              "  <style>\n",
              "    .colab-df-container {\n",
              "      display:flex;\n",
              "      flex-wrap:wrap;\n",
              "      gap: 12px;\n",
              "    }\n",
              "\n",
              "    .colab-df-convert {\n",
              "      background-color: #E8F0FE;\n",
              "      border: none;\n",
              "      border-radius: 50%;\n",
              "      cursor: pointer;\n",
              "      display: none;\n",
              "      fill: #1967D2;\n",
              "      height: 32px;\n",
              "      padding: 0 0 0 0;\n",
              "      width: 32px;\n",
              "    }\n",
              "\n",
              "    .colab-df-convert:hover {\n",
              "      background-color: #E2EBFA;\n",
              "      box-shadow: 0px 1px 2px rgba(60, 64, 67, 0.3), 0px 1px 3px 1px rgba(60, 64, 67, 0.15);\n",
              "      fill: #174EA6;\n",
              "    }\n",
              "\n",
              "    [theme=dark] .colab-df-convert {\n",
              "      background-color: #3B4455;\n",
              "      fill: #D2E3FC;\n",
              "    }\n",
              "\n",
              "    [theme=dark] .colab-df-convert:hover {\n",
              "      background-color: #434B5C;\n",
              "      box-shadow: 0px 1px 3px 1px rgba(0, 0, 0, 0.15);\n",
              "      filter: drop-shadow(0px 1px 2px rgba(0, 0, 0, 0.3));\n",
              "      fill: #FFFFFF;\n",
              "    }\n",
              "  </style>\n",
              "\n",
              "      <script>\n",
              "        const buttonEl =\n",
              "          document.querySelector('#df-bf7eb9ba-8faf-4a98-9124-de0f22181ffc button.colab-df-convert');\n",
              "        buttonEl.style.display =\n",
              "          google.colab.kernel.accessAllowed ? 'block' : 'none';\n",
              "\n",
              "        async function convertToInteractive(key) {\n",
              "          const element = document.querySelector('#df-bf7eb9ba-8faf-4a98-9124-de0f22181ffc');\n",
              "          const dataTable =\n",
              "            await google.colab.kernel.invokeFunction('convertToInteractive',\n",
              "                                                     [key], {});\n",
              "          if (!dataTable) return;\n",
              "\n",
              "          const docLinkHtml = 'Like what you see? Visit the ' +\n",
              "            '<a target=\"_blank\" href=https://colab.research.google.com/notebooks/data_table.ipynb>data table notebook</a>'\n",
              "            + ' to learn more about interactive tables.';\n",
              "          element.innerHTML = '';\n",
              "          dataTable['output_type'] = 'display_data';\n",
              "          await google.colab.output.renderOutput(dataTable, element);\n",
              "          const docLink = document.createElement('div');\n",
              "          docLink.innerHTML = docLinkHtml;\n",
              "          element.appendChild(docLink);\n",
              "        }\n",
              "      </script>\n",
              "    </div>\n",
              "  </div>\n",
              "  "
            ]
          },
          "metadata": {},
          "execution_count": 4
        }
      ]
    },
    {
      "cell_type": "markdown",
      "source": [
        "## Some EDA"
      ],
      "metadata": {
        "id": "pRDfHlKNfet-"
      }
    },
    {
      "cell_type": "code",
      "source": [
        "Accuracy=pd.DataFrame()\n",
        "Accuracy['Type']= df.label.value_counts().index\n",
        "Accuracy['Count']= df.label.value_counts().values\n",
        "Accuracy['Type']=Accuracy['Type'].replace(0,'Entailment')\n",
        "Accuracy['Type']=Accuracy['Type'].replace(1,'Neutral')\n",
        "Accuracy['Type']=Accuracy['Type'].replace(2,'Contradiction')\n",
        "Accuracy"
      ],
      "metadata": {
        "colab": {
          "base_uri": "https://localhost:8080/",
          "height": 143
        },
        "id": "h_7LQTJuRKQR",
        "outputId": "b63d11cc-f8c1-47e4-c269-848cea067581"
      },
      "execution_count": null,
      "outputs": [
        {
          "output_type": "execute_result",
          "data": {
            "text/plain": [
              "            Type  Count\n",
              "0     Entailment   4176\n",
              "1  Contradiction   4064\n",
              "2        Neutral   3880"
            ],
            "text/html": [
              "\n",
              "  <div id=\"df-e0cad6be-867b-49eb-9315-68b82f4e21e7\">\n",
              "    <div class=\"colab-df-container\">\n",
              "      <div>\n",
              "<style scoped>\n",
              "    .dataframe tbody tr th:only-of-type {\n",
              "        vertical-align: middle;\n",
              "    }\n",
              "\n",
              "    .dataframe tbody tr th {\n",
              "        vertical-align: top;\n",
              "    }\n",
              "\n",
              "    .dataframe thead th {\n",
              "        text-align: right;\n",
              "    }\n",
              "</style>\n",
              "<table border=\"1\" class=\"dataframe\">\n",
              "  <thead>\n",
              "    <tr style=\"text-align: right;\">\n",
              "      <th></th>\n",
              "      <th>Type</th>\n",
              "      <th>Count</th>\n",
              "    </tr>\n",
              "  </thead>\n",
              "  <tbody>\n",
              "    <tr>\n",
              "      <th>0</th>\n",
              "      <td>Entailment</td>\n",
              "      <td>4176</td>\n",
              "    </tr>\n",
              "    <tr>\n",
              "      <th>1</th>\n",
              "      <td>Contradiction</td>\n",
              "      <td>4064</td>\n",
              "    </tr>\n",
              "    <tr>\n",
              "      <th>2</th>\n",
              "      <td>Neutral</td>\n",
              "      <td>3880</td>\n",
              "    </tr>\n",
              "  </tbody>\n",
              "</table>\n",
              "</div>\n",
              "      <button class=\"colab-df-convert\" onclick=\"convertToInteractive('df-e0cad6be-867b-49eb-9315-68b82f4e21e7')\"\n",
              "              title=\"Convert this dataframe to an interactive table.\"\n",
              "              style=\"display:none;\">\n",
              "        \n",
              "  <svg xmlns=\"http://www.w3.org/2000/svg\" height=\"24px\"viewBox=\"0 0 24 24\"\n",
              "       width=\"24px\">\n",
              "    <path d=\"M0 0h24v24H0V0z\" fill=\"none\"/>\n",
              "    <path d=\"M18.56 5.44l.94 2.06.94-2.06 2.06-.94-2.06-.94-.94-2.06-.94 2.06-2.06.94zm-11 1L8.5 8.5l.94-2.06 2.06-.94-2.06-.94L8.5 2.5l-.94 2.06-2.06.94zm10 10l.94 2.06.94-2.06 2.06-.94-2.06-.94-.94-2.06-.94 2.06-2.06.94z\"/><path d=\"M17.41 7.96l-1.37-1.37c-.4-.4-.92-.59-1.43-.59-.52 0-1.04.2-1.43.59L10.3 9.45l-7.72 7.72c-.78.78-.78 2.05 0 2.83L4 21.41c.39.39.9.59 1.41.59.51 0 1.02-.2 1.41-.59l7.78-7.78 2.81-2.81c.8-.78.8-2.07 0-2.86zM5.41 20L4 18.59l7.72-7.72 1.47 1.35L5.41 20z\"/>\n",
              "  </svg>\n",
              "      </button>\n",
              "      \n",
              "  <style>\n",
              "    .colab-df-container {\n",
              "      display:flex;\n",
              "      flex-wrap:wrap;\n",
              "      gap: 12px;\n",
              "    }\n",
              "\n",
              "    .colab-df-convert {\n",
              "      background-color: #E8F0FE;\n",
              "      border: none;\n",
              "      border-radius: 50%;\n",
              "      cursor: pointer;\n",
              "      display: none;\n",
              "      fill: #1967D2;\n",
              "      height: 32px;\n",
              "      padding: 0 0 0 0;\n",
              "      width: 32px;\n",
              "    }\n",
              "\n",
              "    .colab-df-convert:hover {\n",
              "      background-color: #E2EBFA;\n",
              "      box-shadow: 0px 1px 2px rgba(60, 64, 67, 0.3), 0px 1px 3px 1px rgba(60, 64, 67, 0.15);\n",
              "      fill: #174EA6;\n",
              "    }\n",
              "\n",
              "    [theme=dark] .colab-df-convert {\n",
              "      background-color: #3B4455;\n",
              "      fill: #D2E3FC;\n",
              "    }\n",
              "\n",
              "    [theme=dark] .colab-df-convert:hover {\n",
              "      background-color: #434B5C;\n",
              "      box-shadow: 0px 1px 3px 1px rgba(0, 0, 0, 0.15);\n",
              "      filter: drop-shadow(0px 1px 2px rgba(0, 0, 0, 0.3));\n",
              "      fill: #FFFFFF;\n",
              "    }\n",
              "  </style>\n",
              "\n",
              "      <script>\n",
              "        const buttonEl =\n",
              "          document.querySelector('#df-e0cad6be-867b-49eb-9315-68b82f4e21e7 button.colab-df-convert');\n",
              "        buttonEl.style.display =\n",
              "          google.colab.kernel.accessAllowed ? 'block' : 'none';\n",
              "\n",
              "        async function convertToInteractive(key) {\n",
              "          const element = document.querySelector('#df-e0cad6be-867b-49eb-9315-68b82f4e21e7');\n",
              "          const dataTable =\n",
              "            await google.colab.kernel.invokeFunction('convertToInteractive',\n",
              "                                                     [key], {});\n",
              "          if (!dataTable) return;\n",
              "\n",
              "          const docLinkHtml = 'Like what you see? Visit the ' +\n",
              "            '<a target=\"_blank\" href=https://colab.research.google.com/notebooks/data_table.ipynb>data table notebook</a>'\n",
              "            + ' to learn more about interactive tables.';\n",
              "          element.innerHTML = '';\n",
              "          dataTable['output_type'] = 'display_data';\n",
              "          await google.colab.output.renderOutput(dataTable, element);\n",
              "          const docLink = document.createElement('div');\n",
              "          docLink.innerHTML = docLinkHtml;\n",
              "          element.appendChild(docLink);\n",
              "        }\n",
              "      </script>\n",
              "    </div>\n",
              "  </div>\n",
              "  "
            ]
          },
          "metadata": {},
          "execution_count": 5
        }
      ]
    },
    {
      "cell_type": "code",
      "source": [
        "fig = plt.figure(figsize = (15,5))\n",
        "\n",
        "plt.subplot(1,2,1)\n",
        "plt.title('Traning data label distribution')\n",
        "sns.countplot(data = df, x = 'label', order = df['label'].value_counts().index[:10])\n",
        "plt.show()"
      ],
      "metadata": {
        "colab": {
          "base_uri": "https://localhost:8080/",
          "height": 350
        },
        "id": "AdF9mI3URUMS",
        "outputId": "466a2c62-3a36-43f0-e089-a4ab16c45919"
      },
      "execution_count": null,
      "outputs": [
        {
          "output_type": "display_data",
          "data": {
            "text/plain": [
              "<Figure size 1080x360 with 1 Axes>"
            ],
            "image/png": "[encoded data removed]"
          },
          "metadata": {
            "needs_background": "light"
          }
        }
      ]
    },
    {
      "cell_type": "code",
      "source": [
        "fig = plt.figure(figsize = (15,5))\n",
        "\n",
        "plt.subplot(1,2,1)\n",
        "plt.title('Traning data language distribution')\n",
        "sns.countplot(data = df, x = 'lang_abv', order = df['lang_abv'].value_counts().index[:10])\n",
        "\n",
        "plt.show()"
      ],
      "metadata": {
        "colab": {
          "base_uri": "https://localhost:8080/",
          "height": 351
        },
        "id": "uFysx2kfRsm3",
        "outputId": "ae4ee48a-16c2-477e-ebe8-1d1d413c81b7"
      },
      "execution_count": null,
      "outputs": [
        {
          "output_type": "display_data",
          "data": {
            "text/plain": [
              "<Figure size 1080x360 with 1 Axes>"
            ],
            "image/png": "[encoded data removed]"
          },
          "metadata": {
            "needs_background": "light"
          }
        }
      ]
    },
    {
      "cell_type": "code",
      "source": [
        "import string\n",
        "\n",
        "Meta_features = pd.DataFrame()\n",
        "\n",
        "## Number of words in the text ##\n",
        "Meta_features[\"premise_num_words\"] = df[\"premise\"].apply(lambda x: len(str(x).split()))\n",
        "Meta_features[\"hypothesis_num_words\"] = df[\"hypothesis\"].apply(lambda x: len(str(x).split()))\n",
        "\n",
        "## Number of characters in the text ##\n",
        "Meta_features[\"premise_num_chars\"] = df[\"premise\"].apply(lambda x: len(str(x)))\n",
        "Meta_features[\"hypothesis_num_chars\"] = df[\"hypothesis\"].apply(lambda x: len(str(x)))\n",
        "\n",
        "## Number of punctuations in the text ##\n",
        "Meta_features[\"premise_num_punctuations\"] =df[\"premise\"].apply(lambda x: len([c for c in str(x) if c in string.punctuation]) )\n",
        "Meta_features[\"hypothesis_num_punctuations\"] =df[\"hypothesis\"].apply(lambda x: len([c for c in str(x) if c in string.punctuation]) )\n",
        "\n",
        "## Average length of the words in the text ##\n",
        "Meta_features[\"premise_mean_word_len\"] = df[\"premise\"].apply(lambda x: np.mean([len(w) for w in str(x).split()]))\n",
        "Meta_features[\"hypothesis_mean_word_len\"] = df[\"hypothesis\"].apply(lambda x: np.mean([len(w) for w in str(x).split()]))\n",
        "\n",
        "Meta_features['label'] = df['label']"
      ],
      "metadata": {
        "id": "8Puyprk0R5Jv"
      },
      "execution_count": null,
      "outputs": []
    },
    {
      "cell_type": "code",
      "source": [
        "Meta_features"
      ],
      "metadata": {
        "colab": {
          "base_uri": "https://localhost:8080/",
          "height": 488
        },
        "id": "C2VVrtgtFhST",
        "outputId": "8d71439f-fc81-48b9-d0c3-fe1d46864edd"
      },
      "execution_count": null,
      "outputs": [
        {
          "output_type": "execute_result",
          "data": {
            "text/plain": [
              "       premise_num_words  hypothesis_num_words  premise_num_chars  \\\n",
              "0                     10                    14                 68   \n",
              "1                     15                    10                 81   \n",
              "2                     15                     4                 92   \n",
              "3                     17                     8                 92   \n",
              "4                      6                     1                182   \n",
              "...                  ...                   ...                ...   \n",
              "12115                 35                    10                247   \n",
              "12116                 25                    16                140   \n",
              "12117                 14                     7                 69   \n",
              "12118                 13                     9                 64   \n",
              "12119                 10                     8                 54   \n",
              "\n",
              "       hypothesis_num_chars  premise_num_punctuations  \\\n",
              "0                        81                         1   \n",
              "1                        58                         2   \n",
              "2                        37                         3   \n",
              "3                        50                         1   \n",
              "4                        47                         0   \n",
              "...                     ...                       ...   \n",
              "12115                    56                         3   \n",
              "12116                    80                         4   \n",
              "12117                    32                         2   \n",
              "12118                    44                         1   \n",
              "12119                    45                         4   \n",
              "\n",
              "       hypothesis_num_punctuations  premise_mean_word_len  \\\n",
              "0                                1               5.900000   \n",
              "1                                1               4.400000   \n",
              "2                                3               5.200000   \n",
              "3                                2               4.470588   \n",
              "4                                0              29.500000   \n",
              "...                            ...                    ...   \n",
              "12115                            1               6.085714   \n",
              "12116                            2               4.600000   \n",
              "12117                            2               4.000000   \n",
              "12118                            1               4.000000   \n",
              "12119                            1               4.500000   \n",
              "\n",
              "       hypothesis_mean_word_len  label  \n",
              "0                      4.857143      0  \n",
              "1                      4.900000      2  \n",
              "2                      8.500000      0  \n",
              "3                      5.375000      0  \n",
              "4                     47.000000      1  \n",
              "...                         ...    ...  \n",
              "12115                  4.700000      2  \n",
              "12116                  4.062500      0  \n",
              "12117                  3.714286      2  \n",
              "12118                  4.000000      2  \n",
              "12119                  4.750000      0  \n",
              "\n",
              "[12120 rows x 9 columns]"
            ],
            "text/html": [
              "\n",
              "  <div id=\"df-6f252c9c-8949-47f9-8111-1bc0b6356b0a\">\n",
              "    <div class=\"colab-df-container\">\n",
              "      <div>\n",
              "<style scoped>\n",
              "    .dataframe tbody tr th:only-of-type {\n",
              "        vertical-align: middle;\n",
              "    }\n",
              "\n",
              "    .dataframe tbody tr th {\n",
              "        vertical-align: top;\n",
              "    }\n",
              "\n",
              "    .dataframe thead th {\n",
              "        text-align: right;\n",
              "    }\n",
              "</style>\n",
              "<table border=\"1\" class=\"dataframe\">\n",
              "  <thead>\n",
              "    <tr style=\"text-align: right;\">\n",
              "      <th></th>\n",
              "      <th>premise_num_words</th>\n",
              "      <th>hypothesis_num_words</th>\n",
              "      <th>premise_num_chars</th>\n",
              "      <th>hypothesis_num_chars</th>\n",
              "      <th>premise_num_punctuations</th>\n",
              "      <th>hypothesis_num_punctuations</th>\n",
              "      <th>premise_mean_word_len</th>\n",
              "      <th>hypothesis_mean_word_len</th>\n",
              "      <th>label</th>\n",
              "    </tr>\n",
              "  </thead>\n",
              "  <tbody>\n",
              "    <tr>\n",
              "      <th>0</th>\n",
              "      <td>10</td>\n",
              "      <td>14</td>\n",
              "      <td>68</td>\n",
              "      <td>81</td>\n",
              "      <td>1</td>\n",
              "      <td>1</td>\n",
              "      <td>5.900000</td>\n",
              "      <td>4.857143</td>\n",
              "      <td>0</td>\n",
              "    </tr>\n",
              "    <tr>\n",
              "      <th>1</th>\n",
              "      <td>15</td>\n",
              "      <td>10</td>\n",
              "      <td>81</td>\n",
              "      <td>58</td>\n",
              "      <td>2</td>\n",
              "      <td>1</td>\n",
              "      <td>4.400000</td>\n",
              "      <td>4.900000</td>\n",
              "      <td>2</td>\n",
              "    </tr>\n",
              "    <tr>\n",
              "      <th>2</th>\n",
              "      <td>15</td>\n",
              "      <td>4</td>\n",
              "      <td>92</td>\n",
              "      <td>37</td>\n",
              "      <td>3</td>\n",
              "      <td>3</td>\n",
              "      <td>5.200000</td>\n",
              "      <td>8.500000</td>\n",
              "      <td>0</td>\n",
              "    </tr>\n",
              "    <tr>\n",
              "      <th>3</th>\n",
              "      <td>17</td>\n",
              "      <td>8</td>\n",
              "      <td>92</td>\n",
              "      <td>50</td>\n",
              "      <td>1</td>\n",
              "      <td>2</td>\n",
              "      <td>4.470588</td>\n",
              "      <td>5.375000</td>\n",
              "      <td>0</td>\n",
              "    </tr>\n",
              "    <tr>\n",
              "      <th>4</th>\n",
              "      <td>6</td>\n",
              "      <td>1</td>\n",
              "      <td>182</td>\n",
              "      <td>47</td>\n",
              "      <td>0</td>\n",
              "      <td>0</td>\n",
              "      <td>29.500000</td>\n",
              "      <td>47.000000</td>\n",
              "      <td>1</td>\n",
              "    </tr>\n",
              "    <tr>\n",
              "      <th>...</th>\n",
              "      <td>...</td>\n",
              "      <td>...</td>\n",
              "      <td>...</td>\n",
              "      <td>...</td>\n",
              "      <td>...</td>\n",
              "      <td>...</td>\n",
              "      <td>...</td>\n",
              "      <td>...</td>\n",
              "      <td>...</td>\n",
              "    </tr>\n",
              "    <tr>\n",
              "      <th>12115</th>\n",
              "      <td>35</td>\n",
              "      <td>10</td>\n",
              "      <td>247</td>\n",
              "      <td>56</td>\n",
              "      <td>3</td>\n",
              "      <td>1</td>\n",
              "      <td>6.085714</td>\n",
              "      <td>4.700000</td>\n",
              "      <td>2</td>\n",
              "    </tr>\n",
              "    <tr>\n",
              "      <th>12116</th>\n",
              "      <td>25</td>\n",
              "      <td>16</td>\n",
              "      <td>140</td>\n",
              "      <td>80</td>\n",
              "      <td>4</td>\n",
              "      <td>2</td>\n",
              "      <td>4.600000</td>\n",
              "      <td>4.062500</td>\n",
              "      <td>0</td>\n",
              "    </tr>\n",
              "    <tr>\n",
              "      <th>12117</th>\n",
              "      <td>14</td>\n",
              "      <td>7</td>\n",
              "      <td>69</td>\n",
              "      <td>32</td>\n",
              "      <td>2</td>\n",
              "      <td>2</td>\n",
              "      <td>4.000000</td>\n",
              "      <td>3.714286</td>\n",
              "      <td>2</td>\n",
              "    </tr>\n",
              "    <tr>\n",
              "      <th>12118</th>\n",
              "      <td>13</td>\n",
              "      <td>9</td>\n",
              "      <td>64</td>\n",
              "      <td>44</td>\n",
              "      <td>1</td>\n",
              "      <td>1</td>\n",
              "      <td>4.000000</td>\n",
              "      <td>4.000000</td>\n",
              "      <td>2</td>\n",
              "    </tr>\n",
              "    <tr>\n",
              "      <th>12119</th>\n",
              "      <td>10</td>\n",
              "      <td>8</td>\n",
              "      <td>54</td>\n",
              "      <td>45</td>\n",
              "      <td>4</td>\n",
              "      <td>1</td>\n",
              "      <td>4.500000</td>\n",
              "      <td>4.750000</td>\n",
              "      <td>0</td>\n",
              "    </tr>\n",
              "  </tbody>\n",
              "</table>\n",
              "<p>12120 rows × 9 columns</p>\n",
              "</div>\n",
              "      <button class=\"colab-df-convert\" onclick=\"convertToInteractive('df-6f252c9c-8949-47f9-8111-1bc0b6356b0a')\"\n",
              "              title=\"Convert this dataframe to an interactive table.\"\n",
              "              style=\"display:none;\">\n",
              "        \n",
              "  <svg xmlns=\"http://www.w3.org/2000/svg\" height=\"24px\"viewBox=\"0 0 24 24\"\n",
              "       width=\"24px\">\n",
              "    <path d=\"M0 0h24v24H0V0z\" fill=\"none\"/>\n",
              "    <path d=\"M18.56 5.44l.94 2.06.94-2.06 2.06-.94-2.06-.94-.94-2.06-.94 2.06-2.06.94zm-11 1L8.5 8.5l.94-2.06 2.06-.94-2.06-.94L8.5 2.5l-.94 2.06-2.06.94zm10 10l.94 2.06.94-2.06 2.06-.94-2.06-.94-.94-2.06-.94 2.06-2.06.94z\"/><path d=\"M17.41 7.96l-1.37-1.37c-.4-.4-.92-.59-1.43-.59-.52 0-1.04.2-1.43.59L10.3 9.45l-7.72 7.72c-.78.78-.78 2.05 0 2.83L4 21.41c.39.39.9.59 1.41.59.51 0 1.02-.2 1.41-.59l7.78-7.78 2.81-2.81c.8-.78.8-2.07 0-2.86zM5.41 20L4 18.59l7.72-7.72 1.47 1.35L5.41 20z\"/>\n",
              "  </svg>\n",
              "      </button>\n",
              "      \n",
              "  <style>\n",
              "    .colab-df-container {\n",
              "      display:flex;\n",
              "      flex-wrap:wrap;\n",
              "      gap: 12px;\n",
              "    }\n",
              "\n",
              "    .colab-df-convert {\n",
              "      background-color: #E8F0FE;\n",
              "      border: none;\n",
              "      border-radius: 50%;\n",
              "      cursor: pointer;\n",
              "      display: none;\n",
              "      fill: #1967D2;\n",
              "      height: 32px;\n",
              "      padding: 0 0 0 0;\n",
              "      width: 32px;\n",
              "    }\n",
              "\n",
              "    .colab-df-convert:hover {\n",
              "      background-color: #E2EBFA;\n",
              "      box-shadow: 0px 1px 2px rgba(60, 64, 67, 0.3), 0px 1px 3px 1px rgba(60, 64, 67, 0.15);\n",
              "      fill: #174EA6;\n",
              "    }\n",
              "\n",
              "    [theme=dark] .colab-df-convert {\n",
              "      background-color: #3B4455;\n",
              "      fill: #D2E3FC;\n",
              "    }\n",
              "\n",
              "    [theme=dark] .colab-df-convert:hover {\n",
              "      background-color: #434B5C;\n",
              "      box-shadow: 0px 1px 3px 1px rgba(0, 0, 0, 0.15);\n",
              "      filter: drop-shadow(0px 1px 2px rgba(0, 0, 0, 0.3));\n",
              "      fill: #FFFFFF;\n",
              "    }\n",
              "  </style>\n",
              "\n",
              "      <script>\n",
              "        const buttonEl =\n",
              "          document.querySelector('#df-6f252c9c-8949-47f9-8111-1bc0b6356b0a button.colab-df-convert');\n",
              "        buttonEl.style.display =\n",
              "          google.colab.kernel.accessAllowed ? 'block' : 'none';\n",
              "\n",
              "        async function convertToInteractive(key) {\n",
              "          const element = document.querySelector('#df-6f252c9c-8949-47f9-8111-1bc0b6356b0a');\n",
              "          const dataTable =\n",
              "            await google.colab.kernel.invokeFunction('convertToInteractive',\n",
              "                                                     [key], {});\n",
              "          if (!dataTable) return;\n",
              "\n",
              "          const docLinkHtml = 'Like what you see? Visit the ' +\n",
              "            '<a target=\"_blank\" href=https://colab.research.google.com/notebooks/data_table.ipynb>data table notebook</a>'\n",
              "            + ' to learn more about interactive tables.';\n",
              "          element.innerHTML = '';\n",
              "          dataTable['output_type'] = 'display_data';\n",
              "          await google.colab.output.renderOutput(dataTable, element);\n",
              "          const docLink = document.createElement('div');\n",
              "          docLink.innerHTML = docLinkHtml;\n",
              "          element.appendChild(docLink);\n",
              "        }\n",
              "      </script>\n",
              "    </div>\n",
              "  </div>\n",
              "  "
            ]
          },
          "metadata": {},
          "execution_count": 9
        }
      ]
    },
    {
      "cell_type": "code",
      "source": [
        "ft = Meta_features.drop(['label'],axis = 1)\n",
        "a = ft.hist(figsize = (10,10),color = \"darkblue\")\n",
        "plt.show()"
      ],
      "metadata": {
        "colab": {
          "base_uri": "https://localhost:8080/",
          "height": 607
        },
        "id": "xAGqVqcstNqT",
        "outputId": "c3579989-5363-4ecf-9390-51e2cfd49ddf"
      },
      "execution_count": null,
      "outputs": [
        {
          "output_type": "display_data",
          "data": {
            "text/plain": [
              "<Figure size 720x720 with 9 Axes>"
            ],
            "image/png": "[encoded data removed]"
          },
          "metadata": {
            "needs_background": "light"
          }
        }
      ]
    },
    {
      "cell_type": "code",
      "source": [
        "text_df = df.copy()"
      ],
      "metadata": {
        "id": "cr1lskBbI9xu"
      },
      "execution_count": null,
      "outputs": []
    },
    {
      "cell_type": "code",
      "source": [
        "nltk.download('stopwords')\n",
        "STOP_WORDS = nltk.corpus.stopwords.words()\n",
        "\n",
        "def clean_sentence(val):\n",
        "    regex = re.compile('([^\\s\\w]|_)+')\n",
        "    sentence = regex.sub('', val).lower()\n",
        "    sentence = sentence.split(\" \")\n",
        "    \n",
        "    for word in list(sentence):\n",
        "        if word in STOP_WORDS:\n",
        "            sentence.remove(word)  \n",
        "            \n",
        "    sentence = \" \".join(sentence)\n",
        "    return sentence\n",
        "\n",
        "text_df['premise'] =  text_df['premise'].apply(clean_sentence)\n",
        "text_df['hypothesis'] =  text_df['hypothesis'].apply(clean_sentence)"
      ],
      "metadata": {
        "colab": {
          "base_uri": "https://localhost:8080/"
        },
        "id": "XHaQ7S8gJDBY",
        "outputId": "06457b5c-28f9-4720-fc1e-781c29c99fd3"
      },
      "execution_count": null,
      "outputs": [
        {
          "output_type": "stream",
          "name": "stdout",
          "text": [
            "[nltk_data] Downloading package stopwords to /root/nltk_data...\n",
            "[nltk_data]   Unzipping corpora/stopwords.zip.\n"
          ]
        }
      ]
    },
    {
      "cell_type": "code",
      "source": [
        "text_df.head()"
      ],
      "metadata": {
        "colab": {
          "base_uri": "https://localhost:8080/",
          "height": 206
        },
        "id": "iPW1xPvVJbxe",
        "outputId": "ff9c31e7-54b1-405c-842c-71f691dfaac3"
      },
      "execution_count": null,
      "outputs": [
        {
          "output_type": "execute_result",
          "data": {
            "text/plain": [
              "           id                                            premise  \\\n",
              "0  5130fd2cb5      comments considered formulating interim rules   \n",
              "1  5b72532a0b     issues wrestle practice groups law firms said    \n",
              "2  3931fbe82a  petites choses comme celleslà font différence ...   \n",
              "3  5622f0c60b  know cant really defend like somebody grown uh...   \n",
              "4  86aaa48b45  ในการเลนบทบาทสมมตกเชนกน โอกาสทจะไดแสดงออกและได...   \n",
              "\n",
              "                                          hypothesis lang_abv language  label  \n",
              "0  rules developed interim put together comments ...       en  English      0  \n",
              "1              practice groups permitted work issues       en  English      2  \n",
              "2                 jessayais daccomplir quelque chose       fr   French      0  \n",
              "3                                    cant defend age       en  English      0  \n",
              "4               เดกสามารถเหนไดวาชาตพนธแตกตางกนอยางไร       th     Thai      1  "
            ],
            "text/html": [
              "\n",
              "  <div id=\"df-be9f993d-8303-4259-8ae6-bfbd4b5f19cd\">\n",
              "    <div class=\"colab-df-container\">\n",
              "      <div>\n",
              "<style scoped>\n",
              "    .dataframe tbody tr th:only-of-type {\n",
              "        vertical-align: middle;\n",
              "    }\n",
              "\n",
              "    .dataframe tbody tr th {\n",
              "        vertical-align: top;\n",
              "    }\n",
              "\n",
              "    .dataframe thead th {\n",
              "        text-align: right;\n",
              "    }\n",
              "</style>\n",
              "<table border=\"1\" class=\"dataframe\">\n",
              "  <thead>\n",
              "    <tr style=\"text-align: right;\">\n",
              "      <th></th>\n",
              "      <th>id</th>\n",
              "      <th>premise</th>\n",
              "      <th>hypothesis</th>\n",
              "      <th>lang_abv</th>\n",
              "      <th>language</th>\n",
              "      <th>label</th>\n",
              "    </tr>\n",
              "  </thead>\n",
              "  <tbody>\n",
              "    <tr>\n",
              "      <th>0</th>\n",
              "      <td>5130fd2cb5</td>\n",
              "      <td>comments considered formulating interim rules</td>\n",
              "      <td>rules developed interim put together comments ...</td>\n",
              "      <td>en</td>\n",
              "      <td>English</td>\n",
              "      <td>0</td>\n",
              "    </tr>\n",
              "    <tr>\n",
              "      <th>1</th>\n",
              "      <td>5b72532a0b</td>\n",
              "      <td>issues wrestle practice groups law firms said</td>\n",
              "      <td>practice groups permitted work issues</td>\n",
              "      <td>en</td>\n",
              "      <td>English</td>\n",
              "      <td>2</td>\n",
              "    </tr>\n",
              "    <tr>\n",
              "      <th>2</th>\n",
              "      <td>3931fbe82a</td>\n",
              "      <td>petites choses comme celleslà font différence ...</td>\n",
              "      <td>jessayais daccomplir quelque chose</td>\n",
              "      <td>fr</td>\n",
              "      <td>French</td>\n",
              "      <td>0</td>\n",
              "    </tr>\n",
              "    <tr>\n",
              "      <th>3</th>\n",
              "      <td>5622f0c60b</td>\n",
              "      <td>know cant really defend like somebody grown uh...</td>\n",
              "      <td>cant defend age</td>\n",
              "      <td>en</td>\n",
              "      <td>English</td>\n",
              "      <td>0</td>\n",
              "    </tr>\n",
              "    <tr>\n",
              "      <th>4</th>\n",
              "      <td>86aaa48b45</td>\n",
              "      <td>ในการเลนบทบาทสมมตกเชนกน โอกาสทจะไดแสดงออกและได...</td>\n",
              "      <td>เดกสามารถเหนไดวาชาตพนธแตกตางกนอยางไร</td>\n",
              "      <td>th</td>\n",
              "      <td>Thai</td>\n",
              "      <td>1</td>\n",
              "    </tr>\n",
              "  </tbody>\n",
              "</table>\n",
              "</div>\n",
              "      <button class=\"colab-df-convert\" onclick=\"convertToInteractive('df-be9f993d-8303-4259-8ae6-bfbd4b5f19cd')\"\n",
              "              title=\"Convert this dataframe to an interactive table.\"\n",
              "              style=\"display:none;\">\n",
              "        \n",
              "  <svg xmlns=\"http://www.w3.org/2000/svg\" height=\"24px\"viewBox=\"0 0 24 24\"\n",
              "       width=\"24px\">\n",
              "    <path d=\"M0 0h24v24H0V0z\" fill=\"none\"/>\n",
              "    <path d=\"M18.56 5.44l.94 2.06.94-2.06 2.06-.94-2.06-.94-.94-2.06-.94 2.06-2.06.94zm-11 1L8.5 8.5l.94-2.06 2.06-.94-2.06-.94L8.5 2.5l-.94 2.06-2.06.94zm10 10l.94 2.06.94-2.06 2.06-.94-2.06-.94-.94-2.06-.94 2.06-2.06.94z\"/><path d=\"M17.41 7.96l-1.37-1.37c-.4-.4-.92-.59-1.43-.59-.52 0-1.04.2-1.43.59L10.3 9.45l-7.72 7.72c-.78.78-.78 2.05 0 2.83L4 21.41c.39.39.9.59 1.41.59.51 0 1.02-.2 1.41-.59l7.78-7.78 2.81-2.81c.8-.78.8-2.07 0-2.86zM5.41 20L4 18.59l7.72-7.72 1.47 1.35L5.41 20z\"/>\n",
              "  </svg>\n",
              "      </button>\n",
              "      \n",
              "  <style>\n",
              "    .colab-df-container {\n",
              "      display:flex;\n",
              "      flex-wrap:wrap;\n",
              "      gap: 12px;\n",
              "    }\n",
              "\n",
              "    .colab-df-convert {\n",
              "      background-color: #E8F0FE;\n",
              "      border: none;\n",
              "      border-radius: 50%;\n",
              "      cursor: pointer;\n",
              "      display: none;\n",
              "      fill: #1967D2;\n",
              "      height: 32px;\n",
              "      padding: 0 0 0 0;\n",
              "      width: 32px;\n",
              "    }\n",
              "\n",
              "    .colab-df-convert:hover {\n",
              "      background-color: #E2EBFA;\n",
              "      box-shadow: 0px 1px 2px rgba(60, 64, 67, 0.3), 0px 1px 3px 1px rgba(60, 64, 67, 0.15);\n",
              "      fill: #174EA6;\n",
              "    }\n",
              "\n",
              "    [theme=dark] .colab-df-convert {\n",
              "      background-color: #3B4455;\n",
              "      fill: #D2E3FC;\n",
              "    }\n",
              "\n",
              "    [theme=dark] .colab-df-convert:hover {\n",
              "      background-color: #434B5C;\n",
              "      box-shadow: 0px 1px 3px 1px rgba(0, 0, 0, 0.15);\n",
              "      filter: drop-shadow(0px 1px 2px rgba(0, 0, 0, 0.3));\n",
              "      fill: #FFFFFF;\n",
              "    }\n",
              "  </style>\n",
              "\n",
              "      <script>\n",
              "        const buttonEl =\n",
              "          document.querySelector('#df-be9f993d-8303-4259-8ae6-bfbd4b5f19cd button.colab-df-convert');\n",
              "        buttonEl.style.display =\n",
              "          google.colab.kernel.accessAllowed ? 'block' : 'none';\n",
              "\n",
              "        async function convertToInteractive(key) {\n",
              "          const element = document.querySelector('#df-be9f993d-8303-4259-8ae6-bfbd4b5f19cd');\n",
              "          const dataTable =\n",
              "            await google.colab.kernel.invokeFunction('convertToInteractive',\n",
              "                                                     [key], {});\n",
              "          if (!dataTable) return;\n",
              "\n",
              "          const docLinkHtml = 'Like what you see? Visit the ' +\n",
              "            '<a target=\"_blank\" href=https://colab.research.google.com/notebooks/data_table.ipynb>data table notebook</a>'\n",
              "            + ' to learn more about interactive tables.';\n",
              "          element.innerHTML = '';\n",
              "          dataTable['output_type'] = 'display_data';\n",
              "          await google.colab.output.renderOutput(dataTable, element);\n",
              "          const docLink = document.createElement('div');\n",
              "          docLink.innerHTML = docLinkHtml;\n",
              "          element.appendChild(docLink);\n",
              "        }\n",
              "      </script>\n",
              "    </div>\n",
              "  </div>\n",
              "  "
            ]
          },
          "metadata": {},
          "execution_count": 13
        }
      ]
    },
    {
      "cell_type": "code",
      "source": [
        "def build_corpus(data):\n",
        "    corpus = []\n",
        "    for col in ['premise', 'hypothesis']:\n",
        "        for sentence in data[col].iteritems():\n",
        "            word_list = sentence[1].split(\" \")\n",
        "            corpus.append(word_list)\n",
        "            \n",
        "    return corpus\n",
        "\n",
        "text_df_1 = text_df[text_df['lang_abv'] == 'en']\n",
        "\n",
        "corpus = build_corpus(text_df_1) "
      ],
      "metadata": {
        "id": "Ku-waWDvJ9bR"
      },
      "execution_count": null,
      "outputs": []
    },
    {
      "cell_type": "markdown",
      "source": [
        "TSNE(t-Distributed Stochastic Neighbor Embedding) is a non-linear dimensionality reduction algorithm used for exploring high-dimensional data. The idea is to keep similar words close together on the plane, while maximizing the distance between dissimilar words"
      ],
      "metadata": {
        "id": "GiBWhj1lu7V9"
      }
    },
    {
      "cell_type": "code",
      "source": [
        "def tsne_plot(model):\n",
        "    \"Creates and TSNE model and plots it\"\n",
        "    labels = []\n",
        "    tokens = []\n",
        "\n",
        "    for word in model.wv.vocab:\n",
        "        tokens.append(model[word])\n",
        "        labels.append(word)\n",
        "    \n",
        "    tsne_model = TSNE(perplexity=40, n_components=2, init='pca', n_iter=2500, random_state=23)\n",
        "    new_values = tsne_model.fit_transform(tokens)\n",
        "\n",
        "    x = []\n",
        "    y = []\n",
        "    for value in new_values:\n",
        "        x.append(value[0])\n",
        "        y.append(value[1])\n",
        "        \n",
        "    plt.figure(figsize=(16,16)) \n",
        "    for i in range(len(x)):\n",
        "        plt.scatter(x[i],y[i])\n",
        "        plt.annotate(labels[i],\n",
        "                     xy=(x[i], y[i]),\n",
        "                     xytext=(5, 2),\n",
        "                     textcoords='offset points',\n",
        "                     ha='right',\n",
        "                     va='bottom')\n",
        "    plt.show()"
      ],
      "metadata": {
        "id": "EuoExUk1KB4b"
      },
      "execution_count": null,
      "outputs": []
    },
    {
      "cell_type": "code",
      "source": [
        "import warnings\n",
        "warnings.filterwarnings(\"ignore\", category=DeprecationWarning)\n",
        "warnings.filterwarnings(\"ignore\", category=RuntimeWarning)\n",
        "warnings.filterwarnings(\"ignore\", category=FutureWarning)"
      ],
      "metadata": {
        "id": "KnOcVkdQs9oe"
      },
      "execution_count": null,
      "outputs": []
    },
    {
      "cell_type": "code",
      "source": [
        "model = word2vec.Word2Vec(corpus, size=100, window=200, min_count=150, workers=4)\n",
        "tsne_plot(model)"
      ],
      "metadata": {
        "colab": {
          "base_uri": "https://localhost:8080/",
          "height": 918
        },
        "id": "82TXSn8UsO3B",
        "outputId": "d56c58f9-95ad-4d8b-ab83-53a673ad8fd7"
      },
      "execution_count": null,
      "outputs": [
        {
          "output_type": "display_data",
          "data": {
            "text/plain": [
              "<Figure size 1152x1152 with 1 Axes>"
            ],
            "image/png": "[encoded data removed]"
          },
          "metadata": {
            "needs_background": "light"
          }
        }
      ]
    },
    {
      "cell_type": "markdown",
      "source": [
        "## Data Cleaning and Pre-processing"
      ],
      "metadata": {
        "id": "T87LU7fUfnkS"
      }
    },
    {
      "cell_type": "code",
      "source": [
        "# Text Cleaning\n",
        "\n",
        "from nltk.corpus import stopwords\n",
        "import re\n",
        "import nltk\n",
        "import string\n",
        "\n",
        "\n",
        "stop_words = set(stopwords.words('english')) \n",
        "def text_cleaner(text):\n",
        "    newString = text.lower()\n",
        "    newString = re.sub(r'\\([^)]*\\)', '', newString)\n",
        "    newString = re.sub('\"','', newString)    \n",
        "    newString = re.sub(r\"'s\\b\",\"\",newString)\n",
        "    newString = re.sub(\"[^a-zA-Z]\", \" \", newString) \n",
        "    tokens = [w for w in newString.split() if not w in stop_words]\n",
        "    long_words=[]\n",
        "    for i in tokens:\n",
        "        if len(i)>=3:     #removing short word\n",
        "            long_words.append(i)   \n",
        "    return (\" \".join(long_words)).strip()\n",
        "\n",
        "cleaned_text = []\n",
        "for t in df['premise']:\n",
        "    cleaned_text.append(text_cleaner(t))\n",
        "df['premise'] = cleaned_text   \n",
        "\n",
        "cleaned_text = []\n",
        "for t in df['premise']:\n",
        "    cleaned_text.append(text_cleaner(t))\n",
        "df['premise'] = cleaned_text \n",
        "\n",
        "cleaned_text = []\n",
        "for t in df['hypothesis']:\n",
        "    cleaned_text.append(text_cleaner(t))\n",
        "df['hypothesis'] = cleaned_text   \n",
        "\n",
        "cleaned_text = []\n",
        "for t in df['hypothesis']:\n",
        "    cleaned_text.append(text_cleaner(t))\n",
        "df['hypothesis'] = cleaned_text "
      ],
      "metadata": {
        "id": "7V2x2xbvLzpD"
      },
      "execution_count": null,
      "outputs": []
    },
    {
      "cell_type": "code",
      "source": [
        "tfidf_vec = TfidfVectorizer(analyzer='word',ngram_range = (1,3),max_features=1000)"
      ],
      "metadata": {
        "id": "fULVufyfNMI9"
      },
      "execution_count": null,
      "outputs": []
    },
    {
      "cell_type": "code",
      "source": [
        "X1 = df[df['lang_abv']=='en']"
      ],
      "metadata": {
        "id": "p6qdr4SOv8F7"
      },
      "execution_count": null,
      "outputs": []
    },
    {
      "cell_type": "code",
      "source": [
        "y = X1['label']\n",
        "X = X1.drop(['label','id','lang_abv','language'],axis = 1)"
      ],
      "metadata": {
        "id": "nU-VH_9PNOJY"
      },
      "execution_count": null,
      "outputs": []
    },
    {
      "cell_type": "code",
      "source": [
        "# Train test split\n",
        "\n",
        "X_train, X_test, y_train, y_test = train_test_split(X, y, test_size=0.25, random_state=0)"
      ],
      "metadata": {
        "id": "nvUVLJIWNVuO"
      },
      "execution_count": null,
      "outputs": []
    },
    {
      "cell_type": "code",
      "source": [
        "try:\n",
        "    tpu = tf.distribute.cluster_resolver.TPUClusterResolver()\n",
        "    tf.config.experimental_connect_to_cluster(tpu)\n",
        "    tf.tpu.experimental.initialize_tpu_system(tpu)\n",
        "    strategy = tf.distribute.experimental.TPUStrategy(tpu)\n",
        "    print(\"TPU is on!\")\n",
        "except ValueError:\n",
        "    strategy = tf.distribute.get_strategy() # for CPU and single GPU\n",
        "    print('Number of replicas:', strategy.num_replicas_in_sync)"
      ],
      "metadata": {
        "colab": {
          "base_uri": "https://localhost:8080/"
        },
        "id": "vnjzCxgUNYoR",
        "outputId": "e7897eb3-f897-4991-eb0c-9078330dbdbd"
      },
      "execution_count": null,
      "outputs": [
        {
          "output_type": "stream",
          "name": "stdout",
          "text": [
            "Number of replicas: 1\n"
          ]
        }
      ]
    },
    {
      "cell_type": "code",
      "source": [
        "vocab_size = 10000\n",
        "oov_tok = '<OOV>'\n",
        "emb_dim = 32\n",
        "max_len = 250"
      ],
      "metadata": {
        "id": "eQHS-Lh0Nq_t"
      },
      "execution_count": null,
      "outputs": []
    },
    {
      "cell_type": "code",
      "source": [
        "# Text vectorizer\n",
        "\n",
        "tokenizer = Tokenizer(num_words=vocab_size, oov_token=oov_tok)"
      ],
      "metadata": {
        "id": "HPfOkoqUNtqc"
      },
      "execution_count": null,
      "outputs": []
    },
    {
      "cell_type": "code",
      "source": [
        "X_train['combined'] = X_train['premise'] + ' [SEP] ' + X_train['hypothesis']"
      ],
      "metadata": {
        "id": "yMUhVdDANvTm"
      },
      "execution_count": null,
      "outputs": []
    },
    {
      "cell_type": "code",
      "source": [
        "x = X_train['combined']"
      ],
      "metadata": {
        "id": "tUF-j4tyNzSd"
      },
      "execution_count": null,
      "outputs": []
    },
    {
      "cell_type": "markdown",
      "source": [
        "Transforms each text in texts to a sequence of integers. So it basically takes each word in the text and replaces it with its corresponding integer value from the word_index dictionary"
      ],
      "metadata": {
        "id": "a0fEKfIhClS-"
      }
    },
    {
      "cell_type": "code",
      "source": [
        "tokenizer.fit_on_texts(x)\n",
        "train_seq = tokenizer.texts_to_sequences(x)\n",
        "padded_train = pad_sequences(train_seq, maxlen = max_len)"
      ],
      "metadata": {
        "id": "SvIjXCybN4Wb"
      },
      "execution_count": null,
      "outputs": []
    },
    {
      "cell_type": "code",
      "source": [
        "print(x[0])"
      ],
      "metadata": {
        "colab": {
          "base_uri": "https://localhost:8080/"
        },
        "id": "yzUoCspPBALY",
        "outputId": "a8ad58ab-aba5-4c96-95f8-c8f656bde31c"
      },
      "execution_count": null,
      "outputs": [
        {
          "output_type": "stream",
          "name": "stdout",
          "text": [
            "comments considered formulating interim rules [SEP] rules developed interim put together comments mind\n"
          ]
        }
      ]
    },
    {
      "cell_type": "code",
      "source": [
        "print(padded_train[0])"
      ],
      "metadata": {
        "colab": {
          "base_uri": "https://localhost:8080/"
        },
        "id": "i6GV4gYvBWMJ",
        "outputId": "0beeb3c0-885c-4261-c7bd-3f9dc1767c1b"
      },
      "execution_count": null,
      "outputs": [
        {
          "output_type": "stream",
          "name": "stdout",
          "text": [
            "[   0    0    0    0    0    0    0    0    0    0    0    0    0    0\n",
            "    0    0    0    0    0    0    0    0    0    0    0    0    0    0\n",
            "    0    0    0    0    0    0    0    0    0    0    0    0    0    0\n",
            "    0    0    0    0    0    0    0    0    0    0    0    0    0    0\n",
            "    0    0    0    0    0    0    0    0    0    0    0    0    0    0\n",
            "    0    0    0    0    0    0    0    0    0    0    0    0    0    0\n",
            "    0    0    0    0    0    0    0    0    0    0    0    0    0    0\n",
            "    0    0    0    0    0    0    0    0    0    0    0    0    0    0\n",
            "    0    0    0    0    0    0    0    0    0    0    0    0    0    0\n",
            "    0    0    0    0    0    0    0    0    0    0    0    0    0    0\n",
            "    0    0    0    0    0    0    0    0    0    0    0    0    0    0\n",
            "    0    0    0    0    0    0    0    0    0    0    0    0    0    0\n",
            "    0    0    0    0    0    0    0    0    0    0    0    0    0    0\n",
            "    0    0    0    0    0    0    0    0    0    0    0    0    0    0\n",
            "    0    0    0    0    0    0    0    0    0    0    0    0    0    0\n",
            "    0    0    0    0    0    0    0    0    0    0    0    0    0    0\n",
            "    0    0    0    0    0    0    0    0    0    0    0    0    0    0\n",
            "   88   83   56 3653 1417    2   42   88 8108   42 5969 8109]\n"
          ]
        }
      ]
    },
    {
      "cell_type": "code",
      "source": [
        "X_test['combined'] = X_test['premise'] + ' [SEP] ' + X_test['hypothesis']\n",
        "x_test = X_test['combined']\n",
        "test_seq = tokenizer.texts_to_sequences(x_test)\n",
        "padded_test = pad_sequences(test_seq, maxlen = max_len)"
      ],
      "metadata": {
        "id": "0Wj9tkafOBGk"
      },
      "execution_count": null,
      "outputs": []
    },
    {
      "cell_type": "code",
      "source": [
        "y_train = pd.DataFrame(y_train)\n",
        "y_train = pd.get_dummies(y_train['label'])\n",
        "y_train.head()"
      ],
      "metadata": {
        "colab": {
          "base_uri": "https://localhost:8080/",
          "height": 206
        },
        "id": "sWqRVnagOVOg",
        "outputId": "08eacd8a-06a6-46d0-eb08-ad46395beb10"
      },
      "execution_count": null,
      "outputs": [
        {
          "output_type": "execute_result",
          "data": {
            "text/plain": [
              "       0  1  2\n",
              "5538   1  0  0\n",
              "4267   1  0  0\n",
              "12001  1  0  0\n",
              "10938  0  1  0\n",
              "1844   1  0  0"
            ],
            "text/html": [
              "\n",
              "  <div id=\"df-d26d0d8d-8ca0-4ca8-881e-893cc50aa902\">\n",
              "    <div class=\"colab-df-container\">\n",
              "      <div>\n",
              "<style scoped>\n",
              "    .dataframe tbody tr th:only-of-type {\n",
              "        vertical-align: middle;\n",
              "    }\n",
              "\n",
              "    .dataframe tbody tr th {\n",
              "        vertical-align: top;\n",
              "    }\n",
              "\n",
              "    .dataframe thead th {\n",
              "        text-align: right;\n",
              "    }\n",
              "</style>\n",
              "<table border=\"1\" class=\"dataframe\">\n",
              "  <thead>\n",
              "    <tr style=\"text-align: right;\">\n",
              "      <th></th>\n",
              "      <th>0</th>\n",
              "      <th>1</th>\n",
              "      <th>2</th>\n",
              "    </tr>\n",
              "  </thead>\n",
              "  <tbody>\n",
              "    <tr>\n",
              "      <th>5538</th>\n",
              "      <td>1</td>\n",
              "      <td>0</td>\n",
              "      <td>0</td>\n",
              "    </tr>\n",
              "    <tr>\n",
              "      <th>4267</th>\n",
              "      <td>1</td>\n",
              "      <td>0</td>\n",
              "      <td>0</td>\n",
              "    </tr>\n",
              "    <tr>\n",
              "      <th>12001</th>\n",
              "      <td>1</td>\n",
              "      <td>0</td>\n",
              "      <td>0</td>\n",
              "    </tr>\n",
              "    <tr>\n",
              "      <th>10938</th>\n",
              "      <td>0</td>\n",
              "      <td>1</td>\n",
              "      <td>0</td>\n",
              "    </tr>\n",
              "    <tr>\n",
              "      <th>1844</th>\n",
              "      <td>1</td>\n",
              "      <td>0</td>\n",
              "      <td>0</td>\n",
              "    </tr>\n",
              "  </tbody>\n",
              "</table>\n",
              "</div>\n",
              "      <button class=\"colab-df-convert\" onclick=\"convertToInteractive('df-d26d0d8d-8ca0-4ca8-881e-893cc50aa902')\"\n",
              "              title=\"Convert this dataframe to an interactive table.\"\n",
              "              style=\"display:none;\">\n",
              "        \n",
              "  <svg xmlns=\"http://www.w3.org/2000/svg\" height=\"24px\"viewBox=\"0 0 24 24\"\n",
              "       width=\"24px\">\n",
              "    <path d=\"M0 0h24v24H0V0z\" fill=\"none\"/>\n",
              "    <path d=\"M18.56 5.44l.94 2.06.94-2.06 2.06-.94-2.06-.94-.94-2.06-.94 2.06-2.06.94zm-11 1L8.5 8.5l.94-2.06 2.06-.94-2.06-.94L8.5 2.5l-.94 2.06-2.06.94zm10 10l.94 2.06.94-2.06 2.06-.94-2.06-.94-.94-2.06-.94 2.06-2.06.94z\"/><path d=\"M17.41 7.96l-1.37-1.37c-.4-.4-.92-.59-1.43-.59-.52 0-1.04.2-1.43.59L10.3 9.45l-7.72 7.72c-.78.78-.78 2.05 0 2.83L4 21.41c.39.39.9.59 1.41.59.51 0 1.02-.2 1.41-.59l7.78-7.78 2.81-2.81c.8-.78.8-2.07 0-2.86zM5.41 20L4 18.59l7.72-7.72 1.47 1.35L5.41 20z\"/>\n",
              "  </svg>\n",
              "      </button>\n",
              "      \n",
              "  <style>\n",
              "    .colab-df-container {\n",
              "      display:flex;\n",
              "      flex-wrap:wrap;\n",
              "      gap: 12px;\n",
              "    }\n",
              "\n",
              "    .colab-df-convert {\n",
              "      background-color: #E8F0FE;\n",
              "      border: none;\n",
              "      border-radius: 50%;\n",
              "      cursor: pointer;\n",
              "      display: none;\n",
              "      fill: #1967D2;\n",
              "      height: 32px;\n",
              "      padding: 0 0 0 0;\n",
              "      width: 32px;\n",
              "    }\n",
              "\n",
              "    .colab-df-convert:hover {\n",
              "      background-color: #E2EBFA;\n",
              "      box-shadow: 0px 1px 2px rgba(60, 64, 67, 0.3), 0px 1px 3px 1px rgba(60, 64, 67, 0.15);\n",
              "      fill: #174EA6;\n",
              "    }\n",
              "\n",
              "    [theme=dark] .colab-df-convert {\n",
              "      background-color: #3B4455;\n",
              "      fill: #D2E3FC;\n",
              "    }\n",
              "\n",
              "    [theme=dark] .colab-df-convert:hover {\n",
              "      background-color: #434B5C;\n",
              "      box-shadow: 0px 1px 3px 1px rgba(0, 0, 0, 0.15);\n",
              "      filter: drop-shadow(0px 1px 2px rgba(0, 0, 0, 0.3));\n",
              "      fill: #FFFFFF;\n",
              "    }\n",
              "  </style>\n",
              "\n",
              "      <script>\n",
              "        const buttonEl =\n",
              "          document.querySelector('#df-d26d0d8d-8ca0-4ca8-881e-893cc50aa902 button.colab-df-convert');\n",
              "        buttonEl.style.display =\n",
              "          google.colab.kernel.accessAllowed ? 'block' : 'none';\n",
              "\n",
              "        async function convertToInteractive(key) {\n",
              "          const element = document.querySelector('#df-d26d0d8d-8ca0-4ca8-881e-893cc50aa902');\n",
              "          const dataTable =\n",
              "            await google.colab.kernel.invokeFunction('convertToInteractive',\n",
              "                                                     [key], {});\n",
              "          if (!dataTable) return;\n",
              "\n",
              "          const docLinkHtml = 'Like what you see? Visit the ' +\n",
              "            '<a target=\"_blank\" href=https://colab.research.google.com/notebooks/data_table.ipynb>data table notebook</a>'\n",
              "            + ' to learn more about interactive tables.';\n",
              "          element.innerHTML = '';\n",
              "          dataTable['output_type'] = 'display_data';\n",
              "          await google.colab.output.renderOutput(dataTable, element);\n",
              "          const docLink = document.createElement('div');\n",
              "          docLink.innerHTML = docLinkHtml;\n",
              "          element.appendChild(docLink);\n",
              "        }\n",
              "      </script>\n",
              "    </div>\n",
              "  </div>\n",
              "  "
            ]
          },
          "metadata": {},
          "execution_count": 50
        }
      ]
    },
    {
      "cell_type": "markdown",
      "source": [
        "## LSTM - one directional "
      ],
      "metadata": {
        "id": "g2x_CO_0gK7a"
      }
    },
    {
      "cell_type": "markdown",
      "source": [
        "Here we add embedding layer. \n",
        "Embedding layer can learn long-term dependencies between time steps of sequence data. A word embedding layer maps a sequence of word indices to embedding vectors and learns the word embedding during training"
      ],
      "metadata": {
        "id": "YDVQonAZgeZz"
      }
    },
    {
      "cell_type": "code",
      "source": [
        "# Building model \n",
        "\n",
        "model = tf.keras.Sequential()\n",
        "model.add(tf.keras.layers.Embedding(vocab_size, output_dim=emb_dim, input_length=max_len))\n",
        "model.add(tf.keras.layers.LSTM(16, return_sequences=True))\n",
        "model.add(tf.keras.layers.LSTM(32,))\n",
        "model.add(tf.keras.layers.Dropout(0.2))\n",
        "\n",
        "model.add(tf.keras.layers.Dense(16, activation='relu'))\n",
        "model.add(tf.keras.layers.Dropout(0.3))\n",
        "model.add(tf.keras.layers.Dense(3, activation='softmax'))\n",
        "model.summary()"
      ],
      "metadata": {
        "colab": {
          "base_uri": "https://localhost:8080/"
        },
        "id": "ZhedcAntOGiV",
        "outputId": "6d8a8ff6-c7b8-440d-c537-d4362ed64093"
      },
      "execution_count": null,
      "outputs": [
        {
          "output_type": "stream",
          "name": "stdout",
          "text": [
            "Model: \"sequential\"\n",
            "_________________________________________________________________\n",
            " Layer (type)                Output Shape              Param #   \n",
            "=================================================================\n",
            " embedding (Embedding)       (None, 250, 32)           320000    \n",
            "                                                                 \n",
            " lstm (LSTM)                 (None, 250, 16)           3136      \n",
            "                                                                 \n",
            " lstm_1 (LSTM)               (None, 32)                6272      \n",
            "                                                                 \n",
            " dropout (Dropout)           (None, 32)                0         \n",
            "                                                                 \n",
            " dense (Dense)               (None, 16)                528       \n",
            "                                                                 \n",
            " dropout_1 (Dropout)         (None, 16)                0         \n",
            "                                                                 \n",
            " dense_1 (Dense)             (None, 3)                 51        \n",
            "                                                                 \n",
            "=================================================================\n",
            "Total params: 329,987\n",
            "Trainable params: 329,987\n",
            "Non-trainable params: 0\n",
            "_________________________________________________________________\n"
          ]
        }
      ]
    },
    {
      "cell_type": "code",
      "source": [
        "# Model compilation \n",
        "\n",
        "model.compile(optimizer=tf.keras.optimizers.Adam(), loss = 'categorical_crossentropy', metrics = ['accuracy'])\n",
        "history = model.fit(padded_train,y_train, epochs = 20,validation_split = 0.1)"
      ],
      "metadata": {
        "colab": {
          "base_uri": "https://localhost:8080/"
        },
        "id": "LjSUYBX7OaXk",
        "outputId": "dde281b1-06c1-45ee-eb64-c56311c0391f"
      },
      "execution_count": null,
      "outputs": [
        {
          "output_type": "stream",
          "name": "stdout",
          "text": [
            "Epoch 1/20\n",
            "145/145 [==============================] - 29s 167ms/step - loss: 1.0988 - accuracy: 0.3412 - val_loss: 1.0979 - val_accuracy: 0.3508\n",
            "Epoch 2/20\n",
            "145/145 [==============================] - 23s 157ms/step - loss: 1.0950 - accuracy: 0.3604 - val_loss: 1.0989 - val_accuracy: 0.3508\n",
            "Epoch 3/20\n",
            "145/145 [==============================] - 24s 163ms/step - loss: 1.0311 - accuracy: 0.4767 - val_loss: 1.1486 - val_accuracy: 0.3663\n",
            "Epoch 4/20\n",
            "145/145 [==============================] - 24s 165ms/step - loss: 0.8055 - accuracy: 0.6495 - val_loss: 1.3302 - val_accuracy: 0.3333\n",
            "Epoch 5/20\n",
            "145/145 [==============================] - 23s 160ms/step - loss: 0.5779 - accuracy: 0.7798 - val_loss: 1.8030 - val_accuracy: 0.3295\n",
            "Epoch 6/20\n",
            "145/145 [==============================] - 23s 159ms/step - loss: 0.3965 - accuracy: 0.8568 - val_loss: 2.1720 - val_accuracy: 0.3372\n",
            "Epoch 7/20\n",
            "145/145 [==============================] - 23s 158ms/step - loss: 0.2886 - accuracy: 0.8999 - val_loss: 2.6863 - val_accuracy: 0.3353\n",
            "Epoch 8/20\n",
            "145/145 [==============================] - 27s 186ms/step - loss: 0.2244 - accuracy: 0.9213 - val_loss: 3.1011 - val_accuracy: 0.3275\n",
            "Epoch 9/20\n",
            "145/145 [==============================] - 24s 163ms/step - loss: 0.1766 - accuracy: 0.9424 - val_loss: 3.5330 - val_accuracy: 0.3101\n",
            "Epoch 10/20\n",
            "145/145 [==============================] - 24s 164ms/step - loss: 0.1461 - accuracy: 0.9536 - val_loss: 3.7134 - val_accuracy: 0.3295\n",
            "Epoch 11/20\n",
            "145/145 [==============================] - 23s 159ms/step - loss: 0.1272 - accuracy: 0.9599 - val_loss: 4.1826 - val_accuracy: 0.3198\n",
            "Epoch 12/20\n",
            "145/145 [==============================] - 23s 159ms/step - loss: 0.1135 - accuracy: 0.9633 - val_loss: 4.5609 - val_accuracy: 0.3275\n",
            "Epoch 13/20\n",
            "145/145 [==============================] - 24s 169ms/step - loss: 0.0971 - accuracy: 0.9679 - val_loss: 4.5000 - val_accuracy: 0.3372\n",
            "Epoch 14/20\n",
            "145/145 [==============================] - 24s 165ms/step - loss: 0.0788 - accuracy: 0.9726 - val_loss: 5.0121 - val_accuracy: 0.3372\n",
            "Epoch 15/20\n",
            "145/145 [==============================] - 24s 162ms/step - loss: 0.0827 - accuracy: 0.9730 - val_loss: 5.1529 - val_accuracy: 0.3333\n",
            "Epoch 16/20\n",
            "145/145 [==============================] - 23s 160ms/step - loss: 0.0768 - accuracy: 0.9739 - val_loss: 5.5214 - val_accuracy: 0.3217\n",
            "Epoch 17/20\n",
            "145/145 [==============================] - 23s 159ms/step - loss: 0.0635 - accuracy: 0.9780 - val_loss: 5.8043 - val_accuracy: 0.3101\n",
            "Epoch 18/20\n",
            "145/145 [==============================] - 23s 161ms/step - loss: 0.0664 - accuracy: 0.9769 - val_loss: 5.5974 - val_accuracy: 0.3256\n",
            "Epoch 19/20\n",
            "145/145 [==============================] - 24s 163ms/step - loss: 0.0608 - accuracy: 0.9769 - val_loss: 5.3559 - val_accuracy: 0.3333\n",
            "Epoch 20/20\n",
            "145/145 [==============================] - 23s 160ms/step - loss: 0.0516 - accuracy: 0.9806 - val_loss: 6.4217 - val_accuracy: 0.3236\n"
          ]
        }
      ]
    },
    {
      "cell_type": "code",
      "source": [
        "## Accuracy & Loss plot\n",
        "\n",
        "plt.figure(figsize = (16,6))\n",
        "\n",
        "# summarize history for accuracy\n",
        "\n",
        "plt.subplot(1,2,1)\n",
        "plt.plot(history.history['accuracy'])\n",
        "plt.plot(history.history['val_accuracy'])\n",
        "plt.title('model accuracy')\n",
        "plt.ylabel('accuracy')\n",
        "plt.xlabel('epoch')\n",
        "plt.legend(['train', 'test'], loc='upper left')\n",
        "\n",
        "\n",
        "plt.subplot(1,2,2)\n",
        "# summarize history for loss\n",
        "plt.plot(history.history['loss'])\n",
        "plt.plot(history.history['val_loss'])\n",
        "plt.title('model loss')\n",
        "plt.ylabel('loss')\n",
        "plt.xlabel('epoch')\n",
        "plt.legend(['train', 'test'], loc='upper left')\n",
        "\n",
        "plt.show()\n"
      ],
      "metadata": {
        "colab": {
          "base_uri": "https://localhost:8080/",
          "height": 404
        },
        "id": "8md-bvpVQLlP",
        "outputId": "52bf0828-993e-4606-8fe4-e5fe672dc8db"
      },
      "execution_count": null,
      "outputs": [
        {
          "output_type": "display_data",
          "data": {
            "text/plain": [
              "<Figure size 1152x432 with 2 Axes>"
            ],
            "image/png": "[encoded data removed]"
          },
          "metadata": {
            "needs_background": "light"
          }
        }
      ]
    },
    {
      "cell_type": "code",
      "source": [
        "predict_x=model.predict(padded_test) \n",
        "prediction=np.argmax(predict_x,axis=1)"
      ],
      "metadata": {
        "id": "uAx_FbqHQWmn"
      },
      "execution_count": null,
      "outputs": []
    },
    {
      "cell_type": "code",
      "source": [
        "cm1 = confusion_matrix(y_test, prediction)\n",
        "cm1"
      ],
      "metadata": {
        "colab": {
          "base_uri": "https://localhost:8080/"
        },
        "id": "u_O3WsfpQ8ex",
        "outputId": "9c47f608-bb4b-47f3-a7cf-d30ca49d13fb"
      },
      "execution_count": null,
      "outputs": [
        {
          "output_type": "execute_result",
          "data": {
            "text/plain": [
              "array([[138, 214, 251],\n",
              "       [174, 168, 187],\n",
              "       [202, 199, 185]])"
            ]
          },
          "metadata": {},
          "execution_count": 55
        }
      ]
    },
    {
      "cell_type": "code",
      "source": [
        "plt.rcParams[\"figure.figsize\"] = (10,8)\n",
        "ax = sns.heatmap(cm1, annot=True, cmap='Blues',fmt='g')\n",
        "\n",
        "ax.set_title('Confusion Matrix\\n\\n');\n",
        "ax.set_xlabel('\\nPredicted Values')\n",
        "ax.set_ylabel('Actual Values ');\n",
        "\n",
        "## labels \n",
        "plt.show()"
      ],
      "metadata": {
        "colab": {
          "base_uri": "https://localhost:8080/",
          "height": 554
        },
        "id": "lK0yTrH2RH_U",
        "outputId": "99555a5e-ffd1-4b5f-8da6-270dd82fb4a2"
      },
      "execution_count": null,
      "outputs": [
        {
          "output_type": "display_data",
          "data": {
            "text/plain": [
              "<Figure size 720x576 with 2 Axes>"
            ],
            "image/png": "[encoded data removed]"
          },
          "metadata": {
            "needs_background": "light"
          }
        }
      ]
    },
    {
      "cell_type": "code",
      "source": [
        "print(classification_report(y_test, prediction))"
      ],
      "metadata": {
        "colab": {
          "base_uri": "https://localhost:8080/"
        },
        "id": "Vr3uFa0NRRpR",
        "outputId": "12ade57c-1221-447f-a7dc-b60e4ff78468"
      },
      "execution_count": null,
      "outputs": [
        {
          "output_type": "stream",
          "name": "stdout",
          "text": [
            "              precision    recall  f1-score   support\n",
            "\n",
            "           0       0.27      0.23      0.25       603\n",
            "           1       0.29      0.32      0.30       529\n",
            "           2       0.30      0.32      0.31       586\n",
            "\n",
            "    accuracy                           0.29      1718\n",
            "   macro avg       0.28      0.29      0.29      1718\n",
            "weighted avg       0.28      0.29      0.28      1718\n",
            "\n"
          ]
        }
      ]
    },
    {
      "cell_type": "markdown",
      "source": [
        "## LSTM - Bi-directional"
      ],
      "metadata": {
        "id": "9httvhy8hULX"
      }
    },
    {
      "cell_type": "markdown",
      "source": [
        "Bidirectional long-short term memory(bi-lstm) is the process of making any neural network to have the sequence information in both directions backwards (future to past) or forward (past to future)"
      ],
      "metadata": {
        "id": "St1skWmXxwCN"
      }
    },
    {
      "cell_type": "code",
      "source": [
        "model = tf.keras.Sequential()\n",
        "model.add(tf.keras.layers.Embedding(vocab_size, output_dim=emb_dim, input_length=max_len))\n",
        "model.add(tf.keras.layers.Bidirectional(tf.keras.layers.LSTM(150, return_sequences=True)))\n",
        "model.add(tf.keras.layers.Dropout(0.2))\n",
        "model.add(tf.keras.layers.LSTM(100))\n",
        "model.add(tf.keras.layers.Dense(vocab_size/2, activation='relu',kernel_regularizer=regularizers.l2(0.01)))\n",
        "model.add(tf.keras.layers.Dropout(0.3))\n",
        "model.add(tf.keras.layers.Dense(3, activation='softmax'))\n",
        "\n",
        "model.summary()"
      ],
      "metadata": {
        "colab": {
          "base_uri": "https://localhost:8080/"
        },
        "id": "dJOFrl682Wgf",
        "outputId": "a3a54fee-78e9-4be6-bf8f-ad60221ae118"
      },
      "execution_count": null,
      "outputs": [
        {
          "output_type": "stream",
          "name": "stdout",
          "text": [
            "Model: \"sequential_1\"\n",
            "_________________________________________________________________\n",
            " Layer (type)                Output Shape              Param #   \n",
            "=================================================================\n",
            " embedding_1 (Embedding)     (None, 250, 32)           320000    \n",
            "                                                                 \n",
            " bidirectional (Bidirectiona  (None, 250, 300)         219600    \n",
            " l)                                                              \n",
            "                                                                 \n",
            " dropout_2 (Dropout)         (None, 250, 300)          0         \n",
            "                                                                 \n",
            " lstm_3 (LSTM)               (None, 100)               160400    \n",
            "                                                                 \n",
            " dense_2 (Dense)             (None, 5000)              505000    \n",
            "                                                                 \n",
            " dropout_3 (Dropout)         (None, 5000)              0         \n",
            "                                                                 \n",
            " dense_3 (Dense)             (None, 3)                 15003     \n",
            "                                                                 \n",
            "=================================================================\n",
            "Total params: 1,220,003\n",
            "Trainable params: 1,220,003\n",
            "Non-trainable params: 0\n",
            "_________________________________________________________________\n"
          ]
        }
      ]
    },
    {
      "cell_type": "code",
      "source": [
        "model.compile(optimizer=tf.keras.optimizers.Adam(), loss = 'categorical_crossentropy', metrics = ['accuracy'])\n",
        "\n",
        "history = model.fit(padded_train,y_train, epochs = 10, validation_split = 0.3)"
      ],
      "metadata": {
        "colab": {
          "base_uri": "https://localhost:8080/"
        },
        "id": "leiwXWCJ3A2q",
        "outputId": "7efccd93-5f89-400c-f6b1-45f5a67eebd8"
      },
      "execution_count": null,
      "outputs": [
        {
          "output_type": "stream",
          "name": "stdout",
          "text": [
            "Epoch 1/10\n",
            "113/113 [==============================] - 96s 807ms/step - loss: 1.2688 - accuracy: 0.3469 - val_loss: 1.0993 - val_accuracy: 0.3150\n",
            "Epoch 2/10\n",
            "113/113 [==============================] - 88s 778ms/step - loss: 1.0985 - accuracy: 0.3500 - val_loss: 1.0979 - val_accuracy: 0.3577\n",
            "Epoch 3/10\n",
            "113/113 [==============================] - 89s 792ms/step - loss: 1.1022 - accuracy: 0.3478 - val_loss: 1.1040 - val_accuracy: 0.3551\n",
            "Epoch 4/10\n",
            "113/113 [==============================] - 88s 779ms/step - loss: 1.0733 - accuracy: 0.4088 - val_loss: 1.1140 - val_accuracy: 0.3642\n",
            "Epoch 5/10\n",
            "113/113 [==============================] - 88s 783ms/step - loss: 0.9722 - accuracy: 0.4947 - val_loss: 1.1671 - val_accuracy: 0.3499\n",
            "Epoch 6/10\n",
            "113/113 [==============================] - 86s 765ms/step - loss: 0.7783 - accuracy: 0.5865 - val_loss: 1.3320 - val_accuracy: 0.3583\n",
            "Epoch 7/10\n",
            "113/113 [==============================] - 88s 783ms/step - loss: 0.6433 - accuracy: 0.6378 - val_loss: 1.6373 - val_accuracy: 0.3331\n",
            "Epoch 8/10\n",
            "113/113 [==============================] - 87s 769ms/step - loss: 0.5801 - accuracy: 0.6661 - val_loss: 1.7931 - val_accuracy: 0.3234\n",
            "Epoch 9/10\n",
            "113/113 [==============================] - 87s 774ms/step - loss: 0.5381 - accuracy: 0.7246 - val_loss: 1.8174 - val_accuracy: 0.3344\n",
            "Epoch 10/10\n",
            "113/113 [==============================] - 87s 774ms/step - loss: 0.4850 - accuracy: 0.8070 - val_loss: 2.1384 - val_accuracy: 0.3286\n"
          ]
        }
      ]
    },
    {
      "cell_type": "code",
      "source": [
        "plt.figure(figsize = (16,6))\n",
        "\n",
        "# summarize history for accuracy\n",
        "\n",
        "plt.subplot(1,2,1)\n",
        "plt.plot(history.history['accuracy'])\n",
        "plt.plot(history.history['val_accuracy'])\n",
        "plt.title('model accuracy')\n",
        "plt.ylabel('accuracy')\n",
        "plt.xlabel('epoch')\n",
        "plt.legend(['train', 'test'], loc='upper left')\n",
        "\n",
        "\n",
        "plt.subplot(1,2,2)\n",
        "# summarize history for loss\n",
        "plt.plot(history.history['loss'])\n",
        "plt.plot(history.history['val_loss'])\n",
        "plt.title('model loss')\n",
        "plt.ylabel('loss')\n",
        "plt.xlabel('epoch')\n",
        "plt.legend(['train', 'test'], loc='upper left')\n",
        "\n",
        "plt.show()\n"
      ],
      "metadata": {
        "colab": {
          "base_uri": "https://localhost:8080/",
          "height": 404
        },
        "id": "8Q-ylsW3IpDH",
        "outputId": "5e52f9f7-ca91-4361-d46a-ddf016a2e458"
      },
      "execution_count": null,
      "outputs": [
        {
          "output_type": "display_data",
          "data": {
            "text/plain": [
              "<Figure size 1152x432 with 2 Axes>"
            ],
            "image/png": "[encoded data removed]"
          },
          "metadata": {
            "needs_background": "light"
          }
        }
      ]
    },
    {
      "cell_type": "code",
      "source": [
        "# prediction = model.predict_classes(padded_test)\n",
        "# prediction\n",
        "predict_x=model.predict(padded_test) \n",
        "prediction=np.argmax(predict_x,axis=1)"
      ],
      "metadata": {
        "id": "ZtJlO91p38u7"
      },
      "execution_count": null,
      "outputs": []
    },
    {
      "cell_type": "code",
      "source": [
        "cm1 = confusion_matrix(y_test, prediction)\n",
        "cm1"
      ],
      "metadata": {
        "colab": {
          "base_uri": "https://localhost:8080/"
        },
        "outputId": "2e6d373b-d500-4419-86d0-cbbb36e9c011",
        "id": "NdBUuKRv38u-"
      },
      "execution_count": null,
      "outputs": [
        {
          "output_type": "execute_result",
          "data": {
            "text/plain": [
              "array([[359, 142, 102],\n",
              "       [314, 136,  79],\n",
              "       [328, 160,  98]])"
            ]
          },
          "metadata": {},
          "execution_count": 62
        }
      ]
    },
    {
      "cell_type": "code",
      "source": [
        "plt.rcParams[\"figure.figsize\"] = (10,8)\n",
        "ax = sns.heatmap(cm1, annot=True, cmap='Blues',fmt='g')\n",
        "\n",
        "ax.set_title('Confusion Matrix\\n\\n');\n",
        "ax.set_xlabel('\\nPredicted Values')\n",
        "ax.set_ylabel('Actual Values ');\n",
        "\n",
        "## labels \n",
        "plt.show()"
      ],
      "metadata": {
        "colab": {
          "base_uri": "https://localhost:8080/",
          "height": 554
        },
        "outputId": "edaf4ca1-9758-4d5d-bae9-bbdd558a3c99",
        "id": "yian44Bq38vA"
      },
      "execution_count": null,
      "outputs": [
        {
          "output_type": "display_data",
          "data": {
            "text/plain": [
              "<Figure size 720x576 with 2 Axes>"
            ],
            "image/png": "[encoded data removed]"
          },
          "metadata": {
            "needs_background": "light"
          }
        }
      ]
    },
    {
      "cell_type": "code",
      "source": [
        "print(classification_report(y_test, prediction))"
      ],
      "metadata": {
        "colab": {
          "base_uri": "https://localhost:8080/"
        },
        "outputId": "1f88cb34-ef5d-41f5-fc28-b410950c4d87",
        "id": "S_krUZ5_38vB"
      },
      "execution_count": null,
      "outputs": [
        {
          "output_type": "stream",
          "name": "stdout",
          "text": [
            "              precision    recall  f1-score   support\n",
            "\n",
            "           0       0.36      0.60      0.45       603\n",
            "           1       0.31      0.26      0.28       529\n",
            "           2       0.35      0.17      0.23       586\n",
            "\n",
            "    accuracy                           0.35      1718\n",
            "   macro avg       0.34      0.34      0.32      1718\n",
            "weighted avg       0.34      0.35      0.32      1718\n",
            "\n"
          ]
        }
      ]
    },
    {
      "cell_type": "markdown",
      "source": [
        "From the model results, we see that bi-directional LSTM performs better than ordinary LSTM"
      ],
      "metadata": {
        "id": "hILbI6QK4Lg3"
      }
    },
    {
      "cell_type": "markdown",
      "source": [
        "### Refernces:\n",
        "\n",
        "* https://analyticsindiamag.com/lstm-vs-gru-in-recurrent-neural-network-a-comparative-study/\n",
        "\n",
        "* https://medium.com/analytics-vidhya/rnn-vs-gru-vs-lstm-863b0b7b1573\n",
        "\n",
        "* https://machinelearningmastery.com/develop-bidirectional-lstm-sequence-classification-python-keras/\n",
        "\n",
        "\n",
        "\n",
        "\n",
        "\n"
      ],
      "metadata": {
        "id": "PM-voYGP8_Xy"
      }
    }
  ]
}