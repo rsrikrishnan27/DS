{
  "nbformat": 4,
  "nbformat_minor": 0,
  "metadata": {
    "colab": {
      "provenance": [],
      "collapsed_sections": [],
      "authorship_tag": "ABX9TyOD+ez/SkOHtJJLMrou9GyV",
      "include_colab_link": true
    },
    "kernelspec": {
      "name": "python3",
      "display_name": "Python 3"
    },
    "language_info": {
      "name": "python"
    }
  },
  "cells": [
    {
      "cell_type": "markdown",
      "metadata": {
        "id": "view-in-github",
        "colab_type": "text"
      },
      "source": [
        "<a href=\"https://colab.research.google.com/github/rsrikrishnan27/DS/blob/main/Stellar_Classification.ipynb\" target=\"_parent\"><img src=\"https://colab.research.google.com/assets/colab-badge.svg\" alt=\"Open In Colab\"/></a>"
      ]
    },
    {
      "cell_type": "markdown",
      "source": [
        "## This project aims at classifying the celestial objects into star, quasar or galaxy using the optical filters and the object’s redshift. The dataset, available at Kaggle, is originally taken from SDSS (Sloan Digital Sky Survey)."
      ],
      "metadata": {
        "id": "-zF0xUn2OSRh"
      }
    },
    {
      "cell_type": "markdown",
      "source": [
        "## Loading Required packages"
      ],
      "metadata": {
        "id": "aWHB4gkAVo7M"
      }
    },
    {
      "cell_type": "code",
      "source": [
        "pip install 'eli5'"
      ],
      "metadata": {
        "colab": {
          "base_uri": "https://localhost:8080/"
        },
        "id": "gM7rx36dfoye",
        "outputId": "1cac4d79-659e-49ab-aba6-bfab1b2f13b1"
      },
      "execution_count": null,
      "outputs": [
        {
          "output_type": "stream",
          "name": "stdout",
          "text": [
            "Collecting eli5\n",
            "  Downloading eli5-0.11.0-py2.py3-none-any.whl (106 kB)\n",
            "\u001b[?25l\r\u001b[K     |███                             | 10 kB 12.3 MB/s eta 0:00:01\r\u001b[K     |██████▏                         | 20 kB 15.4 MB/s eta 0:00:01\r\u001b[K     |█████████▎                      | 30 kB 12.1 MB/s eta 0:00:01\r\u001b[K     |████████████▍                   | 40 kB 7.6 MB/s eta 0:00:01\r\u001b[K     |███████████████▌                | 51 kB 6.0 MB/s eta 0:00:01\r\u001b[K     |██████████████████▌             | 61 kB 6.8 MB/s eta 0:00:01\r\u001b[K     |█████████████████████▋          | 71 kB 7.2 MB/s eta 0:00:01\r\u001b[K     |████████████████████████▊       | 81 kB 6.2 MB/s eta 0:00:01\r\u001b[K     |███████████████████████████▉    | 92 kB 6.8 MB/s eta 0:00:01\r\u001b[K     |███████████████████████████████ | 102 kB 7.4 MB/s eta 0:00:01\r\u001b[K     |████████████████████████████████| 106 kB 7.4 MB/s \n",
            "\u001b[?25hRequirement already satisfied: graphviz in /usr/local/lib/python3.7/dist-packages (from eli5) (0.10.1)\n",
            "Requirement already satisfied: scipy in /usr/local/lib/python3.7/dist-packages (from eli5) (1.4.1)\n",
            "Requirement already satisfied: scikit-learn>=0.20 in /usr/local/lib/python3.7/dist-packages (from eli5) (1.0.2)\n",
            "Requirement already satisfied: six in /usr/local/lib/python3.7/dist-packages (from eli5) (1.15.0)\n",
            "Requirement already satisfied: tabulate>=0.7.7 in /usr/local/lib/python3.7/dist-packages (from eli5) (0.8.9)\n",
            "Requirement already satisfied: jinja2 in /usr/local/lib/python3.7/dist-packages (from eli5) (2.11.3)\n",
            "Requirement already satisfied: numpy>=1.9.0 in /usr/local/lib/python3.7/dist-packages (from eli5) (1.21.5)\n",
            "Requirement already satisfied: attrs>16.0.0 in /usr/local/lib/python3.7/dist-packages (from eli5) (21.4.0)\n",
            "Requirement already satisfied: threadpoolctl>=2.0.0 in /usr/local/lib/python3.7/dist-packages (from scikit-learn>=0.20->eli5) (3.1.0)\n",
            "Requirement already satisfied: joblib>=0.11 in /usr/local/lib/python3.7/dist-packages (from scikit-learn>=0.20->eli5) (1.1.0)\n",
            "Requirement already satisfied: MarkupSafe>=0.23 in /usr/local/lib/python3.7/dist-packages (from jinja2->eli5) (2.0.1)\n",
            "Installing collected packages: eli5\n",
            "Successfully installed eli5-0.11.0\n"
          ]
        }
      ]
    },
    {
      "cell_type": "code",
      "execution_count": null,
      "metadata": {
        "id": "Ipf1M0yNZZQ5"
      },
      "outputs": [],
      "source": [
        "import pandas as pd\n",
        "import numpy as np\n",
        "from sklearn.model_selection import train_test_split\n",
        "import matplotlib.pyplot as plt\n",
        "import seaborn as sns\n",
        "from sklearn.neural_network import MLPRegressor\n",
        "from sklearn.preprocessing import StandardScaler\n",
        "%matplotlib inline\n",
        "from sklearn.tree import DecisionTreeClassifier\n",
        "from sklearn.metrics import confusion_matrix\n",
        "from sklearn.metrics import classification_report\n",
        "from sklearn import linear_model\n",
        "from sklearn.preprocessing import LabelEncoder\n",
        "from keras.utils.vis_utils import plot_model\n",
        "from sklearn.neural_network import MLPClassifier\n",
        "from itertools import cycle\n",
        "import eli5\n",
        "from eli5.sklearn import PermutationImportance\n",
        "from sklearn.metrics import accuracy_score\n",
        "\n",
        "plt.style.use(\"seaborn-whitegrid\")\n",
        "plt.rc(\"figure\", autolayout=True)\n",
        "plt.rc(\n",
        "    \"axes\",\n",
        "    labelweight=\"bold\",\n",
        "    labelsize=\"large\",\n",
        "    titleweight=\"bold\",\n",
        "    titlesize=14,\n",
        "    titlepad=10,\n",
        ")"
      ]
    },
    {
      "cell_type": "markdown",
      "source": [
        "## Data importing & cleaning "
      ],
      "metadata": {
        "id": "sR60IadwV6Ox"
      }
    },
    {
      "cell_type": "code",
      "source": [
        "from google.colab import drive\n",
        "drive.mount('/content/drive')"
      ],
      "metadata": {
        "colab": {
          "base_uri": "https://localhost:8080/"
        },
        "id": "WGPAvhJVc7Wp",
        "outputId": "b7789ecb-4fb5-4701-8af8-94757cf32e25"
      },
      "execution_count": null,
      "outputs": [
        {
          "output_type": "stream",
          "name": "stdout",
          "text": [
            "Mounted at /content/drive\n"
          ]
        }
      ]
    },
    {
      "cell_type": "code",
      "source": [
        "# Importing data\n",
        "st_df = pd.read_csv('/content/drive/My Drive/Colab Notebooks/star_classification.csv')\n",
        "st_df.head()"
      ],
      "metadata": {
        "colab": {
          "base_uri": "https://localhost:8080/",
          "height": 270
        },
        "id": "rf4p-OivdC3g",
        "outputId": "d7c37036-b7db-47ef-bf2c-6ea61163f5b5"
      },
      "execution_count": null,
      "outputs": [
        {
          "output_type": "execute_result",
          "data": {
            "text/plain": [
              "         obj_ID       alpha      delta         u         g         r  \\\n",
              "0  1.237661e+18  135.689107  32.494632  23.87882  22.27530  20.39501   \n",
              "1  1.237665e+18  144.826101  31.274185  24.77759  22.83188  22.58444   \n",
              "2  1.237661e+18  142.188790  35.582444  25.26307  22.66389  20.60976   \n",
              "3  1.237663e+18  338.741038  -0.402828  22.13682  23.77656  21.61162   \n",
              "4  1.237680e+18  345.282593  21.183866  19.43718  17.58028  16.49747   \n",
              "\n",
              "          i         z  run_ID  rerun_ID  cam_col  field_ID   spec_obj_ID  \\\n",
              "0  19.16573  18.79371    3606       301        2        79  6.543777e+18   \n",
              "1  21.16812  21.61427    4518       301        5       119  1.176014e+19   \n",
              "2  19.34857  18.94827    3606       301        2       120  5.152200e+18   \n",
              "3  20.50454  19.25010    4192       301        3       214  1.030107e+19   \n",
              "4  15.97711  15.54461    8102       301        3       137  6.891865e+18   \n",
              "\n",
              "    class  redshift  plate    MJD  fiber_ID  \n",
              "0  GALAXY  0.634794   5812  56354       171  \n",
              "1  GALAXY  0.779136  10445  58158       427  \n",
              "2  GALAXY  0.644195   4576  55592       299  \n",
              "3  GALAXY  0.932346   9149  58039       775  \n",
              "4  GALAXY  0.116123   6121  56187       842  "
            ],
            "text/html": [
              "\n",
              "  <div id=\"df-be6e418c-9039-461a-abda-0b7945664366\">\n",
              "    <div class=\"colab-df-container\">\n",
              "      <div>\n",
              "<style scoped>\n",
              "    .dataframe tbody tr th:only-of-type {\n",
              "        vertical-align: middle;\n",
              "    }\n",
              "\n",
              "    .dataframe tbody tr th {\n",
              "        vertical-align: top;\n",
              "    }\n",
              "\n",
              "    .dataframe thead th {\n",
              "        text-align: right;\n",
              "    }\n",
              "</style>\n",
              "<table border=\"1\" class=\"dataframe\">\n",
              "  <thead>\n",
              "    <tr style=\"text-align: right;\">\n",
              "      <th></th>\n",
              "      <th>obj_ID</th>\n",
              "      <th>alpha</th>\n",
              "      <th>delta</th>\n",
              "      <th>u</th>\n",
              "      <th>g</th>\n",
              "      <th>r</th>\n",
              "      <th>i</th>\n",
              "      <th>z</th>\n",
              "      <th>run_ID</th>\n",
              "      <th>rerun_ID</th>\n",
              "      <th>cam_col</th>\n",
              "      <th>field_ID</th>\n",
              "      <th>spec_obj_ID</th>\n",
              "      <th>class</th>\n",
              "      <th>redshift</th>\n",
              "      <th>plate</th>\n",
              "      <th>MJD</th>\n",
              "      <th>fiber_ID</th>\n",
              "    </tr>\n",
              "  </thead>\n",
              "  <tbody>\n",
              "    <tr>\n",
              "      <th>0</th>\n",
              "      <td>1.237661e+18</td>\n",
              "      <td>135.689107</td>\n",
              "      <td>32.494632</td>\n",
              "      <td>23.87882</td>\n",
              "      <td>22.27530</td>\n",
              "      <td>20.39501</td>\n",
              "      <td>19.16573</td>\n",
              "      <td>18.79371</td>\n",
              "      <td>3606</td>\n",
              "      <td>301</td>\n",
              "      <td>2</td>\n",
              "      <td>79</td>\n",
              "      <td>6.543777e+18</td>\n",
              "      <td>GALAXY</td>\n",
              "      <td>0.634794</td>\n",
              "      <td>5812</td>\n",
              "      <td>56354</td>\n",
              "      <td>171</td>\n",
              "    </tr>\n",
              "    <tr>\n",
              "      <th>1</th>\n",
              "      <td>1.237665e+18</td>\n",
              "      <td>144.826101</td>\n",
              "      <td>31.274185</td>\n",
              "      <td>24.77759</td>\n",
              "      <td>22.83188</td>\n",
              "      <td>22.58444</td>\n",
              "      <td>21.16812</td>\n",
              "      <td>21.61427</td>\n",
              "      <td>4518</td>\n",
              "      <td>301</td>\n",
              "      <td>5</td>\n",
              "      <td>119</td>\n",
              "      <td>1.176014e+19</td>\n",
              "      <td>GALAXY</td>\n",
              "      <td>0.779136</td>\n",
              "      <td>10445</td>\n",
              "      <td>58158</td>\n",
              "      <td>427</td>\n",
              "    </tr>\n",
              "    <tr>\n",
              "      <th>2</th>\n",
              "      <td>1.237661e+18</td>\n",
              "      <td>142.188790</td>\n",
              "      <td>35.582444</td>\n",
              "      <td>25.26307</td>\n",
              "      <td>22.66389</td>\n",
              "      <td>20.60976</td>\n",
              "      <td>19.34857</td>\n",
              "      <td>18.94827</td>\n",
              "      <td>3606</td>\n",
              "      <td>301</td>\n",
              "      <td>2</td>\n",
              "      <td>120</td>\n",
              "      <td>5.152200e+18</td>\n",
              "      <td>GALAXY</td>\n",
              "      <td>0.644195</td>\n",
              "      <td>4576</td>\n",
              "      <td>55592</td>\n",
              "      <td>299</td>\n",
              "    </tr>\n",
              "    <tr>\n",
              "      <th>3</th>\n",
              "      <td>1.237663e+18</td>\n",
              "      <td>338.741038</td>\n",
              "      <td>-0.402828</td>\n",
              "      <td>22.13682</td>\n",
              "      <td>23.77656</td>\n",
              "      <td>21.61162</td>\n",
              "      <td>20.50454</td>\n",
              "      <td>19.25010</td>\n",
              "      <td>4192</td>\n",
              "      <td>301</td>\n",
              "      <td>3</td>\n",
              "      <td>214</td>\n",
              "      <td>1.030107e+19</td>\n",
              "      <td>GALAXY</td>\n",
              "      <td>0.932346</td>\n",
              "      <td>9149</td>\n",
              "      <td>58039</td>\n",
              "      <td>775</td>\n",
              "    </tr>\n",
              "    <tr>\n",
              "      <th>4</th>\n",
              "      <td>1.237680e+18</td>\n",
              "      <td>345.282593</td>\n",
              "      <td>21.183866</td>\n",
              "      <td>19.43718</td>\n",
              "      <td>17.58028</td>\n",
              "      <td>16.49747</td>\n",
              "      <td>15.97711</td>\n",
              "      <td>15.54461</td>\n",
              "      <td>8102</td>\n",
              "      <td>301</td>\n",
              "      <td>3</td>\n",
              "      <td>137</td>\n",
              "      <td>6.891865e+18</td>\n",
              "      <td>GALAXY</td>\n",
              "      <td>0.116123</td>\n",
              "      <td>6121</td>\n",
              "      <td>56187</td>\n",
              "      <td>842</td>\n",
              "    </tr>\n",
              "  </tbody>\n",
              "</table>\n",
              "</div>\n",
              "      <button class=\"colab-df-convert\" onclick=\"convertToInteractive('df-be6e418c-9039-461a-abda-0b7945664366')\"\n",
              "              title=\"Convert this dataframe to an interactive table.\"\n",
              "              style=\"display:none;\">\n",
              "        \n",
              "  <svg xmlns=\"http://www.w3.org/2000/svg\" height=\"24px\"viewBox=\"0 0 24 24\"\n",
              "       width=\"24px\">\n",
              "    <path d=\"M0 0h24v24H0V0z\" fill=\"none\"/>\n",
              "    <path d=\"M18.56 5.44l.94 2.06.94-2.06 2.06-.94-2.06-.94-.94-2.06-.94 2.06-2.06.94zm-11 1L8.5 8.5l.94-2.06 2.06-.94-2.06-.94L8.5 2.5l-.94 2.06-2.06.94zm10 10l.94 2.06.94-2.06 2.06-.94-2.06-.94-.94-2.06-.94 2.06-2.06.94z\"/><path d=\"M17.41 7.96l-1.37-1.37c-.4-.4-.92-.59-1.43-.59-.52 0-1.04.2-1.43.59L10.3 9.45l-7.72 7.72c-.78.78-.78 2.05 0 2.83L4 21.41c.39.39.9.59 1.41.59.51 0 1.02-.2 1.41-.59l7.78-7.78 2.81-2.81c.8-.78.8-2.07 0-2.86zM5.41 20L4 18.59l7.72-7.72 1.47 1.35L5.41 20z\"/>\n",
              "  </svg>\n",
              "      </button>\n",
              "      \n",
              "  <style>\n",
              "    .colab-df-container {\n",
              "      display:flex;\n",
              "      flex-wrap:wrap;\n",
              "      gap: 12px;\n",
              "    }\n",
              "\n",
              "    .colab-df-convert {\n",
              "      background-color: #E8F0FE;\n",
              "      border: none;\n",
              "      border-radius: 50%;\n",
              "      cursor: pointer;\n",
              "      display: none;\n",
              "      fill: #1967D2;\n",
              "      height: 32px;\n",
              "      padding: 0 0 0 0;\n",
              "      width: 32px;\n",
              "    }\n",
              "\n",
              "    .colab-df-convert:hover {\n",
              "      background-color: #E2EBFA;\n",
              "      box-shadow: 0px 1px 2px rgba(60, 64, 67, 0.3), 0px 1px 3px 1px rgba(60, 64, 67, 0.15);\n",
              "      fill: #174EA6;\n",
              "    }\n",
              "\n",
              "    [theme=dark] .colab-df-convert {\n",
              "      background-color: #3B4455;\n",
              "      fill: #D2E3FC;\n",
              "    }\n",
              "\n",
              "    [theme=dark] .colab-df-convert:hover {\n",
              "      background-color: #434B5C;\n",
              "      box-shadow: 0px 1px 3px 1px rgba(0, 0, 0, 0.15);\n",
              "      filter: drop-shadow(0px 1px 2px rgba(0, 0, 0, 0.3));\n",
              "      fill: #FFFFFF;\n",
              "    }\n",
              "  </style>\n",
              "\n",
              "      <script>\n",
              "        const buttonEl =\n",
              "          document.querySelector('#df-be6e418c-9039-461a-abda-0b7945664366 button.colab-df-convert');\n",
              "        buttonEl.style.display =\n",
              "          google.colab.kernel.accessAllowed ? 'block' : 'none';\n",
              "\n",
              "        async function convertToInteractive(key) {\n",
              "          const element = document.querySelector('#df-be6e418c-9039-461a-abda-0b7945664366');\n",
              "          const dataTable =\n",
              "            await google.colab.kernel.invokeFunction('convertToInteractive',\n",
              "                                                     [key], {});\n",
              "          if (!dataTable) return;\n",
              "\n",
              "          const docLinkHtml = 'Like what you see? Visit the ' +\n",
              "            '<a target=\"_blank\" href=https://colab.research.google.com/notebooks/data_table.ipynb>data table notebook</a>'\n",
              "            + ' to learn more about interactive tables.';\n",
              "          element.innerHTML = '';\n",
              "          dataTable['output_type'] = 'display_data';\n",
              "          await google.colab.output.renderOutput(dataTable, element);\n",
              "          const docLink = document.createElement('div');\n",
              "          docLink.innerHTML = docLinkHtml;\n",
              "          element.appendChild(docLink);\n",
              "        }\n",
              "      </script>\n",
              "    </div>\n",
              "  </div>\n",
              "  "
            ]
          },
          "metadata": {},
          "execution_count": 4
        }
      ]
    },
    {
      "cell_type": "code",
      "source": [
        "# Checking for NULL\n",
        "st_df.isnull().values.any()"
      ],
      "metadata": {
        "colab": {
          "base_uri": "https://localhost:8080/"
        },
        "id": "CMrFbw2sl4vT",
        "outputId": "cded2c60-d8dc-494b-fb64-e80edd4778da"
      },
      "execution_count": null,
      "outputs": [
        {
          "output_type": "execute_result",
          "data": {
            "text/plain": [
              "False"
            ]
          },
          "metadata": {},
          "execution_count": 5
        }
      ]
    },
    {
      "cell_type": "code",
      "source": [
        "st_df.info()"
      ],
      "metadata": {
        "colab": {
          "base_uri": "https://localhost:8080/"
        },
        "id": "gG7oalWHfvzx",
        "outputId": "dfcca751-0dc2-42a9-8a68-b0070579896a"
      },
      "execution_count": null,
      "outputs": [
        {
          "output_type": "stream",
          "name": "stdout",
          "text": [
            "<class 'pandas.core.frame.DataFrame'>\n",
            "RangeIndex: 100000 entries, 0 to 99999\n",
            "Data columns (total 18 columns):\n",
            " #   Column       Non-Null Count   Dtype  \n",
            "---  ------       --------------   -----  \n",
            " 0   obj_ID       100000 non-null  float64\n",
            " 1   alpha        100000 non-null  float64\n",
            " 2   delta        100000 non-null  float64\n",
            " 3   u            100000 non-null  float64\n",
            " 4   g            100000 non-null  float64\n",
            " 5   r            100000 non-null  float64\n",
            " 6   i            100000 non-null  float64\n",
            " 7   z            100000 non-null  float64\n",
            " 8   run_ID       100000 non-null  int64  \n",
            " 9   rerun_ID     100000 non-null  int64  \n",
            " 10  cam_col      100000 non-null  int64  \n",
            " 11  field_ID     100000 non-null  int64  \n",
            " 12  spec_obj_ID  100000 non-null  float64\n",
            " 13  class        100000 non-null  object \n",
            " 14  redshift     100000 non-null  float64\n",
            " 15  plate        100000 non-null  int64  \n",
            " 16  MJD          100000 non-null  int64  \n",
            " 17  fiber_ID     100000 non-null  int64  \n",
            "dtypes: float64(10), int64(7), object(1)\n",
            "memory usage: 13.7+ MB\n"
          ]
        }
      ]
    },
    {
      "cell_type": "code",
      "source": [
        "st_df = st_df[['u', 'g', 'r', 'i', 'z','class','redshift']]\n",
        "st_df.describe()"
      ],
      "metadata": {
        "colab": {
          "base_uri": "https://localhost:8080/",
          "height": 300
        },
        "id": "5Ley4sGOi5WJ",
        "outputId": "4e8b8cd5-32a2-464d-c029-b0f4ea7a0c52"
      },
      "execution_count": null,
      "outputs": [
        {
          "output_type": "execute_result",
          "data": {
            "text/plain": [
              "                   u              g              r              i  \\\n",
              "count  100000.000000  100000.000000  100000.000000  100000.000000   \n",
              "mean       21.980468      20.531387      19.645762      19.084854   \n",
              "std        31.769291      31.750292       1.854760       1.757895   \n",
              "min     -9999.000000   -9999.000000       9.822070       9.469903   \n",
              "25%        20.352353      18.965230      18.135828      17.732285   \n",
              "50%        22.179135      21.099835      20.125290      19.405145   \n",
              "75%        23.687440      22.123767      21.044785      20.396495   \n",
              "max        32.781390      31.602240      29.571860      32.141470   \n",
              "\n",
              "                   z       redshift  \n",
              "count  100000.000000  100000.000000  \n",
              "mean       18.668810       0.576661  \n",
              "std        31.728152       0.730707  \n",
              "min     -9999.000000      -0.009971  \n",
              "25%        17.460677       0.054517  \n",
              "50%        19.004595       0.424173  \n",
              "75%        19.921120       0.704154  \n",
              "max        29.383740       7.011245  "
            ],
            "text/html": [
              "\n",
              "  <div id=\"df-871e54fd-b8d0-46d2-bfb0-6b0c172f510b\">\n",
              "    <div class=\"colab-df-container\">\n",
              "      <div>\n",
              "<style scoped>\n",
              "    .dataframe tbody tr th:only-of-type {\n",
              "        vertical-align: middle;\n",
              "    }\n",
              "\n",
              "    .dataframe tbody tr th {\n",
              "        vertical-align: top;\n",
              "    }\n",
              "\n",
              "    .dataframe thead th {\n",
              "        text-align: right;\n",
              "    }\n",
              "</style>\n",
              "<table border=\"1\" class=\"dataframe\">\n",
              "  <thead>\n",
              "    <tr style=\"text-align: right;\">\n",
              "      <th></th>\n",
              "      <th>u</th>\n",
              "      <th>g</th>\n",
              "      <th>r</th>\n",
              "      <th>i</th>\n",
              "      <th>z</th>\n",
              "      <th>redshift</th>\n",
              "    </tr>\n",
              "  </thead>\n",
              "  <tbody>\n",
              "    <tr>\n",
              "      <th>count</th>\n",
              "      <td>100000.000000</td>\n",
              "      <td>100000.000000</td>\n",
              "      <td>100000.000000</td>\n",
              "      <td>100000.000000</td>\n",
              "      <td>100000.000000</td>\n",
              "      <td>100000.000000</td>\n",
              "    </tr>\n",
              "    <tr>\n",
              "      <th>mean</th>\n",
              "      <td>21.980468</td>\n",
              "      <td>20.531387</td>\n",
              "      <td>19.645762</td>\n",
              "      <td>19.084854</td>\n",
              "      <td>18.668810</td>\n",
              "      <td>0.576661</td>\n",
              "    </tr>\n",
              "    <tr>\n",
              "      <th>std</th>\n",
              "      <td>31.769291</td>\n",
              "      <td>31.750292</td>\n",
              "      <td>1.854760</td>\n",
              "      <td>1.757895</td>\n",
              "      <td>31.728152</td>\n",
              "      <td>0.730707</td>\n",
              "    </tr>\n",
              "    <tr>\n",
              "      <th>min</th>\n",
              "      <td>-9999.000000</td>\n",
              "      <td>-9999.000000</td>\n",
              "      <td>9.822070</td>\n",
              "      <td>9.469903</td>\n",
              "      <td>-9999.000000</td>\n",
              "      <td>-0.009971</td>\n",
              "    </tr>\n",
              "    <tr>\n",
              "      <th>25%</th>\n",
              "      <td>20.352353</td>\n",
              "      <td>18.965230</td>\n",
              "      <td>18.135828</td>\n",
              "      <td>17.732285</td>\n",
              "      <td>17.460677</td>\n",
              "      <td>0.054517</td>\n",
              "    </tr>\n",
              "    <tr>\n",
              "      <th>50%</th>\n",
              "      <td>22.179135</td>\n",
              "      <td>21.099835</td>\n",
              "      <td>20.125290</td>\n",
              "      <td>19.405145</td>\n",
              "      <td>19.004595</td>\n",
              "      <td>0.424173</td>\n",
              "    </tr>\n",
              "    <tr>\n",
              "      <th>75%</th>\n",
              "      <td>23.687440</td>\n",
              "      <td>22.123767</td>\n",
              "      <td>21.044785</td>\n",
              "      <td>20.396495</td>\n",
              "      <td>19.921120</td>\n",
              "      <td>0.704154</td>\n",
              "    </tr>\n",
              "    <tr>\n",
              "      <th>max</th>\n",
              "      <td>32.781390</td>\n",
              "      <td>31.602240</td>\n",
              "      <td>29.571860</td>\n",
              "      <td>32.141470</td>\n",
              "      <td>29.383740</td>\n",
              "      <td>7.011245</td>\n",
              "    </tr>\n",
              "  </tbody>\n",
              "</table>\n",
              "</div>\n",
              "      <button class=\"colab-df-convert\" onclick=\"convertToInteractive('df-871e54fd-b8d0-46d2-bfb0-6b0c172f510b')\"\n",
              "              title=\"Convert this dataframe to an interactive table.\"\n",
              "              style=\"display:none;\">\n",
              "        \n",
              "  <svg xmlns=\"http://www.w3.org/2000/svg\" height=\"24px\"viewBox=\"0 0 24 24\"\n",
              "       width=\"24px\">\n",
              "    <path d=\"M0 0h24v24H0V0z\" fill=\"none\"/>\n",
              "    <path d=\"M18.56 5.44l.94 2.06.94-2.06 2.06-.94-2.06-.94-.94-2.06-.94 2.06-2.06.94zm-11 1L8.5 8.5l.94-2.06 2.06-.94-2.06-.94L8.5 2.5l-.94 2.06-2.06.94zm10 10l.94 2.06.94-2.06 2.06-.94-2.06-.94-.94-2.06-.94 2.06-2.06.94z\"/><path d=\"M17.41 7.96l-1.37-1.37c-.4-.4-.92-.59-1.43-.59-.52 0-1.04.2-1.43.59L10.3 9.45l-7.72 7.72c-.78.78-.78 2.05 0 2.83L4 21.41c.39.39.9.59 1.41.59.51 0 1.02-.2 1.41-.59l7.78-7.78 2.81-2.81c.8-.78.8-2.07 0-2.86zM5.41 20L4 18.59l7.72-7.72 1.47 1.35L5.41 20z\"/>\n",
              "  </svg>\n",
              "      </button>\n",
              "      \n",
              "  <style>\n",
              "    .colab-df-container {\n",
              "      display:flex;\n",
              "      flex-wrap:wrap;\n",
              "      gap: 12px;\n",
              "    }\n",
              "\n",
              "    .colab-df-convert {\n",
              "      background-color: #E8F0FE;\n",
              "      border: none;\n",
              "      border-radius: 50%;\n",
              "      cursor: pointer;\n",
              "      display: none;\n",
              "      fill: #1967D2;\n",
              "      height: 32px;\n",
              "      padding: 0 0 0 0;\n",
              "      width: 32px;\n",
              "    }\n",
              "\n",
              "    .colab-df-convert:hover {\n",
              "      background-color: #E2EBFA;\n",
              "      box-shadow: 0px 1px 2px rgba(60, 64, 67, 0.3), 0px 1px 3px 1px rgba(60, 64, 67, 0.15);\n",
              "      fill: #174EA6;\n",
              "    }\n",
              "\n",
              "    [theme=dark] .colab-df-convert {\n",
              "      background-color: #3B4455;\n",
              "      fill: #D2E3FC;\n",
              "    }\n",
              "\n",
              "    [theme=dark] .colab-df-convert:hover {\n",
              "      background-color: #434B5C;\n",
              "      box-shadow: 0px 1px 3px 1px rgba(0, 0, 0, 0.15);\n",
              "      filter: drop-shadow(0px 1px 2px rgba(0, 0, 0, 0.3));\n",
              "      fill: #FFFFFF;\n",
              "    }\n",
              "  </style>\n",
              "\n",
              "      <script>\n",
              "        const buttonEl =\n",
              "          document.querySelector('#df-871e54fd-b8d0-46d2-bfb0-6b0c172f510b button.colab-df-convert');\n",
              "        buttonEl.style.display =\n",
              "          google.colab.kernel.accessAllowed ? 'block' : 'none';\n",
              "\n",
              "        async function convertToInteractive(key) {\n",
              "          const element = document.querySelector('#df-871e54fd-b8d0-46d2-bfb0-6b0c172f510b');\n",
              "          const dataTable =\n",
              "            await google.colab.kernel.invokeFunction('convertToInteractive',\n",
              "                                                     [key], {});\n",
              "          if (!dataTable) return;\n",
              "\n",
              "          const docLinkHtml = 'Like what you see? Visit the ' +\n",
              "            '<a target=\"_blank\" href=https://colab.research.google.com/notebooks/data_table.ipynb>data table notebook</a>'\n",
              "            + ' to learn more about interactive tables.';\n",
              "          element.innerHTML = '';\n",
              "          dataTable['output_type'] = 'display_data';\n",
              "          await google.colab.output.renderOutput(dataTable, element);\n",
              "          const docLink = document.createElement('div');\n",
              "          docLink.innerHTML = docLinkHtml;\n",
              "          element.appendChild(docLink);\n",
              "        }\n",
              "      </script>\n",
              "    </div>\n",
              "  </div>\n",
              "  "
            ]
          },
          "metadata": {},
          "execution_count": 7
        }
      ]
    },
    {
      "cell_type": "code",
      "source": [
        "# Identifying outlier\n",
        "noise = st_df.query('u < 0 or g < 0 or r < 0 or i < 0 or z < 0')\n",
        "noise"
      ],
      "metadata": {
        "colab": {
          "base_uri": "https://localhost:8080/",
          "height": 81
        },
        "id": "_X-Jbu-dwORX",
        "outputId": "590e19be-3d92-433e-98d0-92cb0c8ad5a2"
      },
      "execution_count": null,
      "outputs": [
        {
          "output_type": "execute_result",
          "data": {
            "text/plain": [
              "            u       g        r         i       z class  redshift\n",
              "79543 -9999.0 -9999.0  18.1656  18.01675 -9999.0  STAR  0.000089"
            ],
            "text/html": [
              "\n",
              "  <div id=\"df-a3e7ff12-dd11-44f8-b84c-4940c579f05f\">\n",
              "    <div class=\"colab-df-container\">\n",
              "      <div>\n",
              "<style scoped>\n",
              "    .dataframe tbody tr th:only-of-type {\n",
              "        vertical-align: middle;\n",
              "    }\n",
              "\n",
              "    .dataframe tbody tr th {\n",
              "        vertical-align: top;\n",
              "    }\n",
              "\n",
              "    .dataframe thead th {\n",
              "        text-align: right;\n",
              "    }\n",
              "</style>\n",
              "<table border=\"1\" class=\"dataframe\">\n",
              "  <thead>\n",
              "    <tr style=\"text-align: right;\">\n",
              "      <th></th>\n",
              "      <th>u</th>\n",
              "      <th>g</th>\n",
              "      <th>r</th>\n",
              "      <th>i</th>\n",
              "      <th>z</th>\n",
              "      <th>class</th>\n",
              "      <th>redshift</th>\n",
              "    </tr>\n",
              "  </thead>\n",
              "  <tbody>\n",
              "    <tr>\n",
              "      <th>79543</th>\n",
              "      <td>-9999.0</td>\n",
              "      <td>-9999.0</td>\n",
              "      <td>18.1656</td>\n",
              "      <td>18.01675</td>\n",
              "      <td>-9999.0</td>\n",
              "      <td>STAR</td>\n",
              "      <td>0.000089</td>\n",
              "    </tr>\n",
              "  </tbody>\n",
              "</table>\n",
              "</div>\n",
              "      <button class=\"colab-df-convert\" onclick=\"convertToInteractive('df-a3e7ff12-dd11-44f8-b84c-4940c579f05f')\"\n",
              "              title=\"Convert this dataframe to an interactive table.\"\n",
              "              style=\"display:none;\">\n",
              "        \n",
              "  <svg xmlns=\"http://www.w3.org/2000/svg\" height=\"24px\"viewBox=\"0 0 24 24\"\n",
              "       width=\"24px\">\n",
              "    <path d=\"M0 0h24v24H0V0z\" fill=\"none\"/>\n",
              "    <path d=\"M18.56 5.44l.94 2.06.94-2.06 2.06-.94-2.06-.94-.94-2.06-.94 2.06-2.06.94zm-11 1L8.5 8.5l.94-2.06 2.06-.94-2.06-.94L8.5 2.5l-.94 2.06-2.06.94zm10 10l.94 2.06.94-2.06 2.06-.94-2.06-.94-.94-2.06-.94 2.06-2.06.94z\"/><path d=\"M17.41 7.96l-1.37-1.37c-.4-.4-.92-.59-1.43-.59-.52 0-1.04.2-1.43.59L10.3 9.45l-7.72 7.72c-.78.78-.78 2.05 0 2.83L4 21.41c.39.39.9.59 1.41.59.51 0 1.02-.2 1.41-.59l7.78-7.78 2.81-2.81c.8-.78.8-2.07 0-2.86zM5.41 20L4 18.59l7.72-7.72 1.47 1.35L5.41 20z\"/>\n",
              "  </svg>\n",
              "      </button>\n",
              "      \n",
              "  <style>\n",
              "    .colab-df-container {\n",
              "      display:flex;\n",
              "      flex-wrap:wrap;\n",
              "      gap: 12px;\n",
              "    }\n",
              "\n",
              "    .colab-df-convert {\n",
              "      background-color: #E8F0FE;\n",
              "      border: none;\n",
              "      border-radius: 50%;\n",
              "      cursor: pointer;\n",
              "      display: none;\n",
              "      fill: #1967D2;\n",
              "      height: 32px;\n",
              "      padding: 0 0 0 0;\n",
              "      width: 32px;\n",
              "    }\n",
              "\n",
              "    .colab-df-convert:hover {\n",
              "      background-color: #E2EBFA;\n",
              "      box-shadow: 0px 1px 2px rgba(60, 64, 67, 0.3), 0px 1px 3px 1px rgba(60, 64, 67, 0.15);\n",
              "      fill: #174EA6;\n",
              "    }\n",
              "\n",
              "    [theme=dark] .colab-df-convert {\n",
              "      background-color: #3B4455;\n",
              "      fill: #D2E3FC;\n",
              "    }\n",
              "\n",
              "    [theme=dark] .colab-df-convert:hover {\n",
              "      background-color: #434B5C;\n",
              "      box-shadow: 0px 1px 3px 1px rgba(0, 0, 0, 0.15);\n",
              "      filter: drop-shadow(0px 1px 2px rgba(0, 0, 0, 0.3));\n",
              "      fill: #FFFFFF;\n",
              "    }\n",
              "  </style>\n",
              "\n",
              "      <script>\n",
              "        const buttonEl =\n",
              "          document.querySelector('#df-a3e7ff12-dd11-44f8-b84c-4940c579f05f button.colab-df-convert');\n",
              "        buttonEl.style.display =\n",
              "          google.colab.kernel.accessAllowed ? 'block' : 'none';\n",
              "\n",
              "        async function convertToInteractive(key) {\n",
              "          const element = document.querySelector('#df-a3e7ff12-dd11-44f8-b84c-4940c579f05f');\n",
              "          const dataTable =\n",
              "            await google.colab.kernel.invokeFunction('convertToInteractive',\n",
              "                                                     [key], {});\n",
              "          if (!dataTable) return;\n",
              "\n",
              "          const docLinkHtml = 'Like what you see? Visit the ' +\n",
              "            '<a target=\"_blank\" href=https://colab.research.google.com/notebooks/data_table.ipynb>data table notebook</a>'\n",
              "            + ' to learn more about interactive tables.';\n",
              "          element.innerHTML = '';\n",
              "          dataTable['output_type'] = 'display_data';\n",
              "          await google.colab.output.renderOutput(dataTable, element);\n",
              "          const docLink = document.createElement('div');\n",
              "          docLink.innerHTML = docLinkHtml;\n",
              "          element.appendChild(docLink);\n",
              "        }\n",
              "      </script>\n",
              "    </div>\n",
              "  </div>\n",
              "  "
            ]
          },
          "metadata": {},
          "execution_count": 8
        }
      ]
    },
    {
      "cell_type": "code",
      "source": [
        "# Removing outlier\n",
        "st_df = st_df.drop(79543)"
      ],
      "metadata": {
        "id": "Pyekd_trwWos"
      },
      "execution_count": null,
      "outputs": []
    },
    {
      "cell_type": "markdown",
      "source": [
        "## EDA"
      ],
      "metadata": {
        "id": "al8OdVFhWP21"
      }
    },
    {
      "cell_type": "code",
      "source": [
        "# Distribution of Target Variable\n",
        "sns.set(rc = {'figure.figsize':(7,7)})\n",
        "ax = sns.countplot(x=\"class\", data=st_df)\n",
        "plt.show()"
      ],
      "metadata": {
        "colab": {
          "base_uri": "https://localhost:8080/",
          "height": 509
        },
        "id": "45qibUtUl4N3",
        "outputId": "de9a0688-32f4-480d-e861-a287f08a144b"
      },
      "execution_count": null,
      "outputs": [
        {
          "output_type": "display_data",
          "data": {
            "text/plain": [
              "<Figure size 504x504 with 1 Axes>"
            ],
            "image/png": "[encoded data removed]"
          },
          "metadata": {}
        }
      ]
    },
    {
      "cell_type": "code",
      "source": [
        "# Correlation plot of features\n",
        "st_df.corr().style.background_gradient()"
      ],
      "metadata": {
        "colab": {
          "base_uri": "https://localhost:8080/",
          "height": 238
        },
        "id": "J3rRW_Nzn043",
        "outputId": "112c8f5b-f238-4560-9054-38e1cf9a9f6c"
      },
      "execution_count": null,
      "outputs": [
        {
          "output_type": "execute_result",
          "data": {
            "text/plain": [
              "<pandas.io.formats.style.Styler at 0x7f3b74edd050>"
            ],
            "text/html": [
              "<style type=\"text/css\">\n",
              "#T_fee56_row0_col0, #T_fee56_row1_col1, #T_fee56_row2_col2, #T_fee56_row3_col3, #T_fee56_row4_col4, #T_fee56_row5_col5 {\n",
              "  background-color: #023858;\n",
              "  color: #f1f1f1;\n",
              "}\n",
              "#T_fee56_row0_col1 {\n",
              "  background-color: #056aa6;\n",
              "  color: #f1f1f1;\n",
              "}\n",
              "#T_fee56_row0_col2 {\n",
              "  background-color: #69a5cc;\n",
              "  color: #f1f1f1;\n",
              "}\n",
              "#T_fee56_row0_col3 {\n",
              "  background-color: #d1d2e6;\n",
              "  color: #000000;\n",
              "}\n",
              "#T_fee56_row0_col4 {\n",
              "  background-color: #f2ecf5;\n",
              "  color: #000000;\n",
              "}\n",
              "#T_fee56_row0_col5, #T_fee56_row5_col0, #T_fee56_row5_col1, #T_fee56_row5_col2, #T_fee56_row5_col3, #T_fee56_row5_col4 {\n",
              "  background-color: #fff7fb;\n",
              "  color: #000000;\n",
              "}\n",
              "#T_fee56_row1_col0 {\n",
              "  background-color: #04639b;\n",
              "  color: #f1f1f1;\n",
              "}\n",
              "#T_fee56_row1_col2 {\n",
              "  background-color: #04588a;\n",
              "  color: #f1f1f1;\n",
              "}\n",
              "#T_fee56_row1_col3 {\n",
              "  background-color: #197db7;\n",
              "  color: #f1f1f1;\n",
              "}\n",
              "#T_fee56_row1_col4 {\n",
              "  background-color: #5c9fc9;\n",
              "  color: #f1f1f1;\n",
              "}\n",
              "#T_fee56_row1_col5 {\n",
              "  background-color: #e0dded;\n",
              "  color: #000000;\n",
              "}\n",
              "#T_fee56_row2_col0 {\n",
              "  background-color: #2383ba;\n",
              "  color: #f1f1f1;\n",
              "}\n",
              "#T_fee56_row2_col1 {\n",
              "  background-color: #045382;\n",
              "  color: #f1f1f1;\n",
              "}\n",
              "#T_fee56_row2_col3 {\n",
              "  background-color: #034b76;\n",
              "  color: #f1f1f1;\n",
              "}\n",
              "#T_fee56_row2_col4 {\n",
              "  background-color: #046097;\n",
              "  color: #f1f1f1;\n",
              "}\n",
              "#T_fee56_row2_col5 {\n",
              "  background-color: #b9c6e0;\n",
              "  color: #000000;\n",
              "}\n",
              "#T_fee56_row3_col0 {\n",
              "  background-color: #60a1ca;\n",
              "  color: #f1f1f1;\n",
              "}\n",
              "#T_fee56_row3_col1 {\n",
              "  background-color: #056ba9;\n",
              "  color: #f1f1f1;\n",
              "}\n",
              "#T_fee56_row3_col2 {\n",
              "  background-color: #034973;\n",
              "  color: #f1f1f1;\n",
              "}\n",
              "#T_fee56_row3_col4, #T_fee56_row4_col3 {\n",
              "  background-color: #03476f;\n",
              "  color: #f1f1f1;\n",
              "}\n",
              "#T_fee56_row3_col5 {\n",
              "  background-color: #9fbad9;\n",
              "  color: #000000;\n",
              "}\n",
              "#T_fee56_row4_col0 {\n",
              "  background-color: #86b0d3;\n",
              "  color: #000000;\n",
              "}\n",
              "#T_fee56_row4_col1 {\n",
              "  background-color: #2484ba;\n",
              "  color: #f1f1f1;\n",
              "}\n",
              "#T_fee56_row4_col2 {\n",
              "  background-color: #045d92;\n",
              "  color: #f1f1f1;\n",
              "}\n",
              "#T_fee56_row4_col5 {\n",
              "  background-color: #9cb9d9;\n",
              "  color: #000000;\n",
              "}\n",
              "</style>\n",
              "<table id=\"T_fee56_\" class=\"dataframe\">\n",
              "  <thead>\n",
              "    <tr>\n",
              "      <th class=\"blank level0\" >&nbsp;</th>\n",
              "      <th class=\"col_heading level0 col0\" >u</th>\n",
              "      <th class=\"col_heading level0 col1\" >g</th>\n",
              "      <th class=\"col_heading level0 col2\" >r</th>\n",
              "      <th class=\"col_heading level0 col3\" >i</th>\n",
              "      <th class=\"col_heading level0 col4\" >z</th>\n",
              "      <th class=\"col_heading level0 col5\" >redshift</th>\n",
              "    </tr>\n",
              "  </thead>\n",
              "  <tbody>\n",
              "    <tr>\n",
              "      <th id=\"T_fee56_level0_row0\" class=\"row_heading level0 row0\" >u</th>\n",
              "      <td id=\"T_fee56_row0_col0\" class=\"data row0 col0\" >1.000000</td>\n",
              "      <td id=\"T_fee56_row0_col1\" class=\"data row0 col1\" >0.853350</td>\n",
              "      <td id=\"T_fee56_row0_col2\" class=\"data row0 col2\" >0.728681</td>\n",
              "      <td id=\"T_fee56_row0_col3\" class=\"data row0 col3\" >0.618346</td>\n",
              "      <td id=\"T_fee56_row0_col4\" class=\"data row0 col4\" >0.545760</td>\n",
              "      <td id=\"T_fee56_row0_col5\" class=\"data row0 col5\" >0.166816</td>\n",
              "    </tr>\n",
              "    <tr>\n",
              "      <th id=\"T_fee56_level0_row1\" class=\"row_heading level0 row1\" >g</th>\n",
              "      <td id=\"T_fee56_row1_col0\" class=\"data row1 col0\" >0.853350</td>\n",
              "      <td id=\"T_fee56_row1_col1\" class=\"data row1 col1\" >1.000000</td>\n",
              "      <td id=\"T_fee56_row1_col2\" class=\"data row1 col2\" >0.932996</td>\n",
              "      <td id=\"T_fee56_row1_col3\" class=\"data row1 col3\" >0.847046</td>\n",
              "      <td id=\"T_fee56_row1_col4\" class=\"data row1 col4\" >0.775302</td>\n",
              "      <td id=\"T_fee56_row1_col5\" class=\"data row1 col5\" >0.318910</td>\n",
              "    </tr>\n",
              "    <tr>\n",
              "      <th id=\"T_fee56_level0_row2\" class=\"row_heading level0 row2\" >r</th>\n",
              "      <td id=\"T_fee56_row2_col0\" class=\"data row2 col0\" >0.728681</td>\n",
              "      <td id=\"T_fee56_row2_col1\" class=\"data row2 col1\" >0.932996</td>\n",
              "      <td id=\"T_fee56_row2_col2\" class=\"data row2 col2\" >1.000000</td>\n",
              "      <td id=\"T_fee56_row2_col3\" class=\"data row2 col3\" >0.962868</td>\n",
              "      <td id=\"T_fee56_row2_col4\" class=\"data row2 col4\" >0.919114</td>\n",
              "      <td id=\"T_fee56_row2_col5\" class=\"data row2 col5\" >0.433237</td>\n",
              "    </tr>\n",
              "    <tr>\n",
              "      <th id=\"T_fee56_level0_row3\" class=\"row_heading level0 row3\" >i</th>\n",
              "      <td id=\"T_fee56_row3_col0\" class=\"data row3 col0\" >0.618346</td>\n",
              "      <td id=\"T_fee56_row3_col1\" class=\"data row3 col1\" >0.847046</td>\n",
              "      <td id=\"T_fee56_row3_col2\" class=\"data row3 col2\" >0.962868</td>\n",
              "      <td id=\"T_fee56_row3_col3\" class=\"data row3 col3\" >1.000000</td>\n",
              "      <td id=\"T_fee56_row3_col4\" class=\"data row3 col4\" >0.971546</td>\n",
              "      <td id=\"T_fee56_row3_col5\" class=\"data row3 col5\" >0.492381</td>\n",
              "    </tr>\n",
              "    <tr>\n",
              "      <th id=\"T_fee56_level0_row4\" class=\"row_heading level0 row4\" >z</th>\n",
              "      <td id=\"T_fee56_row4_col0\" class=\"data row4 col0\" >0.545760</td>\n",
              "      <td id=\"T_fee56_row4_col1\" class=\"data row4 col1\" >0.775302</td>\n",
              "      <td id=\"T_fee56_row4_col2\" class=\"data row4 col2\" >0.919114</td>\n",
              "      <td id=\"T_fee56_row4_col3\" class=\"data row4 col3\" >0.971546</td>\n",
              "      <td id=\"T_fee56_row4_col4\" class=\"data row4 col4\" >1.000000</td>\n",
              "      <td id=\"T_fee56_row4_col5\" class=\"data row4 col5\" >0.501060</td>\n",
              "    </tr>\n",
              "    <tr>\n",
              "      <th id=\"T_fee56_level0_row5\" class=\"row_heading level0 row5\" >redshift</th>\n",
              "      <td id=\"T_fee56_row5_col0\" class=\"data row5 col0\" >0.166816</td>\n",
              "      <td id=\"T_fee56_row5_col1\" class=\"data row5 col1\" >0.318910</td>\n",
              "      <td id=\"T_fee56_row5_col2\" class=\"data row5 col2\" >0.433237</td>\n",
              "      <td id=\"T_fee56_row5_col3\" class=\"data row5 col3\" >0.492381</td>\n",
              "      <td id=\"T_fee56_row5_col4\" class=\"data row5 col4\" >0.501060</td>\n",
              "      <td id=\"T_fee56_row5_col5\" class=\"data row5 col5\" >1.000000</td>\n",
              "    </tr>\n",
              "  </tbody>\n",
              "</table>\n"
            ]
          },
          "metadata": {},
          "execution_count": 11
        }
      ]
    },
    {
      "cell_type": "code",
      "source": [
        "# Distribution of Features\n",
        "a = st_df.hist(figsize = (8,8), bins = 20,color = \"darkblue\")\n",
        "plt.show()"
      ],
      "metadata": {
        "colab": {
          "base_uri": "https://localhost:8080/",
          "height": 581
        },
        "id": "WQuWucl6JCH0",
        "outputId": "ae6e89b5-4bd1-4551-8143-fe2f3e11e2c6"
      },
      "execution_count": null,
      "outputs": [
        {
          "output_type": "display_data",
          "data": {
            "text/plain": [
              "<Figure size 576x576 with 6 Axes>"
            ],
            "image/png": "[encoded data removed]"
          },
          "metadata": {}
        }
      ]
    },
    {
      "cell_type": "code",
      "source": [
        "# Distribution of Features w.r.t class\n",
        "\n",
        "sns.set(rc = {'figure.figsize':(10,8)})\n",
        "figure, axis = plt.subplots(3, 2)\n",
        "\n",
        "feat_list = ['u', 'g', 'r', 'i', 'z','redshift']\n",
        "\n",
        "sns.boxplot(y=feat_list[0],x='class',data=st_df, ax = axis[0, 0]).set_title(feat_list[0])\n",
        "sns.boxplot(y=feat_list[1],x='class',data=st_df, ax = axis[0, 1]).set_title(feat_list[1])\n",
        "sns.boxplot(y=feat_list[2],x='class',data=st_df, ax = axis[1, 0]).set_title(feat_list[2])\n",
        "sns.boxplot(y=feat_list[3],x='class',data=st_df, ax = axis[1, 1]).set_title(feat_list[3])\n",
        "sns.boxplot(y=feat_list[4],x='class',data=st_df, ax = axis[2, 0]).set_title(feat_list[4])\n",
        "sns.boxplot(y=feat_list[5],x='class',data=st_df, ax = axis[2, 1]).set_title(feat_list[5])\n",
        "\n",
        " \n",
        "# Combine all the operations and display\n",
        "plt.show()"
      ],
      "metadata": {
        "colab": {
          "base_uri": "https://localhost:8080/",
          "height": 581
        },
        "id": "ZRpzCB4LQSWN",
        "outputId": "1fefae40-c061-4bcf-c827-e9e0c0d187a3"
      },
      "execution_count": null,
      "outputs": [
        {
          "output_type": "display_data",
          "data": {
            "text/plain": [
              "<Figure size 720x576 with 6 Axes>"
            ],
            "image/png": "[encoded data removed]"
          },
          "metadata": {}
        }
      ]
    },
    {
      "cell_type": "markdown",
      "source": [
        "## Splitting Data into Train, Validation and test"
      ],
      "metadata": {
        "id": "tSigzrKvWoDN"
      }
    },
    {
      "cell_type": "code",
      "source": [
        "x = st_df.drop(['class'],axis = 1)\n",
        "y = st_df['class']"
      ],
      "metadata": {
        "id": "Ku6q68zPKxKP"
      },
      "execution_count": null,
      "outputs": []
    },
    {
      "cell_type": "code",
      "source": [
        "X_train, X_test, y_train, y_test = train_test_split(\n",
        "    x, y, test_size=0.2, random_state=1)\n",
        "X_train, X_val, y_train, y_val = train_test_split(\n",
        "    X_train, y_train, test_size=0.125, random_state=1)\n",
        "scaler = StandardScaler()\n",
        "X_train = scaler.fit_transform(X_train)\n",
        "X_val = scaler.fit_transform(X_val)\n",
        "X_test = scaler.transform(X_test)"
      ],
      "metadata": {
        "id": "-BbACuGDL99F"
      },
      "execution_count": null,
      "outputs": []
    },
    {
      "cell_type": "code",
      "source": [
        "X_test.shape"
      ],
      "metadata": {
        "colab": {
          "base_uri": "https://localhost:8080/"
        },
        "id": "zJWDKWlX2hX2",
        "outputId": "92998b69-339a-478e-da02-e845b47e0dee"
      },
      "execution_count": null,
      "outputs": [
        {
          "output_type": "execute_result",
          "data": {
            "text/plain": [
              "(20000, 6)"
            ]
          },
          "metadata": {},
          "execution_count": 16
        }
      ]
    },
    {
      "cell_type": "markdown",
      "source": [
        "## Training models on Train dataset and validating accuracy on Validation Set"
      ],
      "metadata": {
        "id": "iYnAAxJcW_rK"
      }
    },
    {
      "cell_type": "markdown",
      "source": [
        "### Decision Tree"
      ],
      "metadata": {
        "id": "CggLtXZnpivi"
      }
    },
    {
      "cell_type": "code",
      "source": [
        "dtree_model = DecisionTreeClassifier(max_depth = 2).fit(X_train, y_train)\n",
        "dtree_val = dtree_model.predict(X_val)\n",
        "dtree_model_score = dtree_model.score(X_val,y_val)"
      ],
      "metadata": {
        "id": "h9j2zNjzMHN1"
      },
      "execution_count": null,
      "outputs": []
    },
    {
      "cell_type": "code",
      "source": [
        "print(dtree_model_score)"
      ],
      "metadata": {
        "id": "ca4TnEsSRTl3",
        "outputId": "d860f8bb-7dec-46b2-dfd7-6fb7637d6ae0",
        "colab": {
          "base_uri": "https://localhost:8080/"
        }
      },
      "execution_count": null,
      "outputs": [
        {
          "output_type": "stream",
          "name": "stdout",
          "text": [
            "0.9447\n"
          ]
        }
      ]
    },
    {
      "cell_type": "code",
      "source": [
        "cm_dtree = confusion_matrix(y_val, dtree_val)"
      ],
      "metadata": {
        "id": "z7iutshjMPSf"
      },
      "execution_count": null,
      "outputs": []
    },
    {
      "cell_type": "code",
      "source": [
        "plt.rcParams[\"figure.figsize\"] = (10,8)\n",
        "ax = sns.heatmap(cm_dtree, annot=True, cmap='Blues',fmt='g')\n",
        "\n",
        "ax.set_title('Confusion Matrix\\n\\n');\n",
        "ax.set_xlabel('\\nPredicted Values')\n",
        "ax.set_ylabel('Actual Values ');\n",
        "\n",
        "## labels \n",
        "ax.xaxis.set_ticklabels(['Galaxy','Qasar','Star'])\n",
        "ax.yaxis.set_ticklabels(['Galaxy','Qasar','Star'])\n",
        "plt.show()"
      ],
      "metadata": {
        "colab": {
          "base_uri": "https://localhost:8080/",
          "height": 581
        },
        "id": "fXScfN4WMnZa",
        "outputId": "fc281c7d-1890-4483-ea35-83614312ffd9"
      },
      "execution_count": null,
      "outputs": [
        {
          "output_type": "display_data",
          "data": {
            "text/plain": [
              "<Figure size 720x576 with 2 Axes>"
            ],
            "image/png": "[encoded data removed]"
          },
          "metadata": {}
        }
      ]
    },
    {
      "cell_type": "code",
      "source": [
        "target_names = ['Galaxy','Qasar','Star']\n",
        "print(classification_report(y_val, dtree_val, target_names=target_names))"
      ],
      "metadata": {
        "colab": {
          "base_uri": "https://localhost:8080/"
        },
        "id": "LbexNOtrE4S-",
        "outputId": "a5befd54-58a9-42a0-a330-190a7bda4cd6"
      },
      "execution_count": null,
      "outputs": [
        {
          "output_type": "stream",
          "name": "stdout",
          "text": [
            "              precision    recall  f1-score   support\n",
            "\n",
            "      Galaxy       0.93      0.98      0.95      5891\n",
            "       Qasar       0.95      0.79      0.86      1951\n",
            "        Star       0.97      1.00      0.99      2158\n",
            "\n",
            "    accuracy                           0.94     10000\n",
            "   macro avg       0.95      0.92      0.93     10000\n",
            "weighted avg       0.95      0.94      0.94     10000\n",
            "\n"
          ]
        }
      ]
    },
    {
      "cell_type": "markdown",
      "source": [
        "### Logistic Regression"
      ],
      "metadata": {
        "id": "xnOqUPaOpm6P"
      }
    },
    {
      "cell_type": "code",
      "source": [
        "lm = linear_model.LogisticRegression(multi_class='ovr', solver='liblinear')\n",
        "lm.fit(X_train, y_train)"
      ],
      "metadata": {
        "colab": {
          "base_uri": "https://localhost:8080/"
        },
        "id": "q-wSNbCOGjJK",
        "outputId": "487ba4fa-0c5c-475b-867f-26d85249095b"
      },
      "execution_count": null,
      "outputs": [
        {
          "output_type": "execute_result",
          "data": {
            "text/plain": [
              "LogisticRegression(multi_class='ovr', solver='liblinear')"
            ]
          },
          "metadata": {},
          "execution_count": 22
        }
      ]
    },
    {
      "cell_type": "code",
      "source": [
        "intercpet = lm.intercept_\n"
      ],
      "metadata": {
        "id": "FMIW-Htzq7tp"
      },
      "execution_count": null,
      "outputs": []
    },
    {
      "cell_type": "code",
      "source": [
        "print(intercpet)"
      ],
      "metadata": {
        "colab": {
          "base_uri": "https://localhost:8080/"
        },
        "id": "mhe9171YRJF2",
        "outputId": "1cff0150-4ba7-41bd-a2f5-10f7d241d5d7"
      },
      "execution_count": null,
      "outputs": [
        {
          "output_type": "stream",
          "name": "stdout",
          "text": [
            "[  0.59633983  -2.64446243 -31.14678938]\n"
          ]
        }
      ]
    },
    {
      "cell_type": "code",
      "source": [
        "coeff = lm.coef_"
      ],
      "metadata": {
        "id": "wJcdcpi6nTzZ"
      },
      "execution_count": null,
      "outputs": []
    },
    {
      "cell_type": "code",
      "source": [
        "print(coeff)"
      ],
      "metadata": {
        "colab": {
          "base_uri": "https://localhost:8080/"
        },
        "id": "jqoiA1snRMnD",
        "outputId": "3800dd3c-b171-4cb6-f5cc-09259f71c17f"
      },
      "execution_count": null,
      "outputs": [
        {
          "output_type": "stream",
          "name": "stdout",
          "text": [
            "[[ -0.13005054   3.72824324  -1.3585227   -1.71636258  -0.27430765\n",
            "   -0.27837814]\n",
            " [ -1.13351888  -1.79784241  -0.5186002    1.72163707   0.39467224\n",
            "    4.39652895]\n",
            " [  0.8269809   -0.37857256  -0.3090915    0.16479724   0.38481964\n",
            "  -42.71567242]]\n"
          ]
        }
      ]
    },
    {
      "cell_type": "code",
      "source": [
        "logit_val = lm.predict(X_val)\n",
        "logit_score = lm.score(X_val,y_val)"
      ],
      "metadata": {
        "id": "MDzEjpElHApL"
      },
      "execution_count": null,
      "outputs": []
    },
    {
      "cell_type": "code",
      "source": [
        "print(logit_score)"
      ],
      "metadata": {
        "colab": {
          "base_uri": "https://localhost:8080/"
        },
        "id": "6CPREq1hRPZt",
        "outputId": "219f7ba0-b6d4-4ed4-e60f-52a3370ef9bf"
      },
      "execution_count": null,
      "outputs": [
        {
          "output_type": "stream",
          "name": "stdout",
          "text": [
            "0.939\n"
          ]
        }
      ]
    },
    {
      "cell_type": "code",
      "source": [
        "cm_logit = confusion_matrix(y_val, logit_val)"
      ],
      "metadata": {
        "id": "vZPDRUpmHLUg"
      },
      "execution_count": null,
      "outputs": []
    },
    {
      "cell_type": "code",
      "source": [
        "plt.rcParams[\"figure.figsize\"] = (10,8)\n",
        "ax = sns.heatmap(cm_logit, annot=True, cmap='Blues',fmt='g')\n",
        "\n",
        "ax.set_title('Confusion Matrix\\n\\n');\n",
        "ax.set_xlabel('\\nPredicted Values')\n",
        "ax.set_ylabel('Actual Values ');\n",
        "\n",
        "## labels \n",
        "ax.xaxis.set_ticklabels(['Galaxy','Qasar','Star'])\n",
        "ax.yaxis.set_ticklabels(['Galaxy','Qasar','Star'])\n",
        "plt.show()"
      ],
      "metadata": {
        "colab": {
          "base_uri": "https://localhost:8080/",
          "height": 581
        },
        "id": "8wNnptZ0HQDb",
        "outputId": "edc89fc2-796e-4601-9181-01611e73d3d1"
      },
      "execution_count": null,
      "outputs": [
        {
          "output_type": "display_data",
          "data": {
            "text/plain": [
              "<Figure size 720x576 with 2 Axes>"
            ],
            "image/png": "[encoded data removed]"
          },
          "metadata": {}
        }
      ]
    },
    {
      "cell_type": "code",
      "source": [
        "target_names = ['Galaxy','Qasar','Star']\n",
        "print(classification_report(y_val, logit_val, target_names=target_names))"
      ],
      "metadata": {
        "colab": {
          "base_uri": "https://localhost:8080/"
        },
        "id": "ygtZ2HhbHUVe",
        "outputId": "9d077599-b3e3-44ee-cd08-7dea2eb735f8"
      },
      "execution_count": null,
      "outputs": [
        {
          "output_type": "stream",
          "name": "stdout",
          "text": [
            "              precision    recall  f1-score   support\n",
            "\n",
            "      Galaxy       0.95      0.94      0.95      5891\n",
            "       Qasar       0.92      0.91      0.91      1951\n",
            "        Star       0.92      0.95      0.94      2158\n",
            "\n",
            "    accuracy                           0.94     10000\n",
            "   macro avg       0.93      0.93      0.93     10000\n",
            "weighted avg       0.94      0.94      0.94     10000\n",
            "\n"
          ]
        }
      ]
    },
    {
      "cell_type": "markdown",
      "source": [
        "### Neural Network"
      ],
      "metadata": {
        "id": "60R9R_rwpzIM"
      }
    },
    {
      "cell_type": "code",
      "source": [
        "# Create a classifier\n",
        "clf = MLPClassifier(hidden_layer_sizes=(8, 3), learning_rate_init=0.01) # Fit the classifier using the training set\n",
        "clf.fit(X_train, y_train) # Evaluate the classifier using the test set"
      ],
      "metadata": {
        "colab": {
          "base_uri": "https://localhost:8080/"
        },
        "id": "5Qe5IeHFaRml",
        "outputId": "0fdce219-96c1-4f6b-c3cd-8044b06ddea6"
      },
      "execution_count": null,
      "outputs": [
        {
          "output_type": "execute_result",
          "data": {
            "text/plain": [
              "MLPClassifier(hidden_layer_sizes=(8, 3), learning_rate_init=0.01)"
            ]
          },
          "metadata": {},
          "execution_count": 29
        }
      ]
    },
    {
      "cell_type": "code",
      "source": [
        "nn_val = clf.predict(X_val)\n",
        "nn_score = clf.score(X_val,y_val)\n",
        "print(nn_score)"
      ],
      "metadata": {
        "id": "D7E5qhTPjtFg",
        "colab": {
          "base_uri": "https://localhost:8080/"
        },
        "outputId": "0767e414-9b9c-4fb9-bc90-d565f7afae10"
      },
      "execution_count": null,
      "outputs": [
        {
          "output_type": "stream",
          "name": "stdout",
          "text": [
            "0.9662\n"
          ]
        }
      ]
    },
    {
      "cell_type": "code",
      "source": [
        "nn_cm = confusion_matrix(y_val,nn_val)"
      ],
      "metadata": {
        "id": "9r4qkdlucQ8_"
      },
      "execution_count": null,
      "outputs": []
    },
    {
      "cell_type": "code",
      "source": [
        "plt.rcParams[\"figure.figsize\"] = (10,8)\n",
        "ax = sns.heatmap(nn_cm, annot=True, cmap='Blues',fmt='g')\n",
        "\n",
        "ax.set_title('Confusion Matrix\\n\\n');\n",
        "ax.set_xlabel('\\nPredicted Values')\n",
        "ax.set_ylabel('Actual Values ');\n",
        "\n",
        "## labels \n",
        "ax.xaxis.set_ticklabels(['Galaxy','Qasar','Star'])\n",
        "ax.yaxis.set_ticklabels(['Galaxy','Qasar','Star'])\n",
        "plt.show()"
      ],
      "metadata": {
        "colab": {
          "base_uri": "https://localhost:8080/",
          "height": 581
        },
        "id": "qi1-5zr1cXWW",
        "outputId": "ebcb28f8-d3ec-46a5-d4fa-fe3bee404988"
      },
      "execution_count": null,
      "outputs": [
        {
          "output_type": "display_data",
          "data": {
            "text/plain": [
              "<Figure size 720x576 with 2 Axes>"
            ],
            "image/png": "[encoded data removed]"
          },
          "metadata": {}
        }
      ]
    },
    {
      "cell_type": "code",
      "source": [
        "target_names = ['Galaxy','Qasar','Star']\n",
        "print(classification_report(y_val,nn_val,target_names=target_names))"
      ],
      "metadata": {
        "colab": {
          "base_uri": "https://localhost:8080/"
        },
        "id": "JJ8mZEMeceEa",
        "outputId": "70df2a18-10db-4be1-eab8-38761ad3310f"
      },
      "execution_count": null,
      "outputs": [
        {
          "output_type": "stream",
          "name": "stdout",
          "text": [
            "              precision    recall  f1-score   support\n",
            "\n",
            "      Galaxy       0.98      0.96      0.97      5891\n",
            "       Qasar       0.94      0.93      0.94      1951\n",
            "        Star       0.96      1.00      0.98      2158\n",
            "\n",
            "    accuracy                           0.97     10000\n",
            "   macro avg       0.96      0.97      0.96     10000\n",
            "weighted avg       0.97      0.97      0.97     10000\n",
            "\n"
          ]
        }
      ]
    },
    {
      "cell_type": "markdown",
      "source": [
        "## Applying NN Model test Dataset"
      ],
      "metadata": {
        "id": "hUWsoPCqWzwM"
      }
    },
    {
      "cell_type": "code",
      "source": [
        "nn_test = clf.predict(X_test)"
      ],
      "metadata": {
        "id": "ry6iPgBkI1sU"
      },
      "execution_count": null,
      "outputs": []
    },
    {
      "cell_type": "code",
      "source": [
        "nn_cm_test = confusion_matrix(y_test,nn_test)"
      ],
      "metadata": {
        "id": "sGzBctTQJIBt"
      },
      "execution_count": null,
      "outputs": []
    },
    {
      "cell_type": "code",
      "source": [
        "plt.rcParams[\"figure.figsize\"] = (10,8)\n",
        "ax = sns.heatmap(nn_cm_test, annot=True, cmap='Blues',fmt='g')\n",
        "\n",
        "ax.set_title('Confusion Matrix\\n\\n');\n",
        "ax.set_xlabel('\\nPredicted Values')\n",
        "ax.set_ylabel('Actual Values ');\n",
        "\n",
        "## labels \n",
        "ax.xaxis.set_ticklabels(['Galaxy','Qasar','Star'])\n",
        "ax.yaxis.set_ticklabels(['Galaxy','Qasar','Star'])\n",
        "plt.show()"
      ],
      "metadata": {
        "colab": {
          "base_uri": "https://localhost:8080/",
          "height": 581
        },
        "id": "_JmUyN5GJT9j",
        "outputId": "5b900fc0-ffee-4ad6-ee50-c8c870399b78"
      },
      "execution_count": null,
      "outputs": [
        {
          "output_type": "display_data",
          "data": {
            "text/plain": [
              "<Figure size 720x576 with 2 Axes>"
            ],
            "image/png": "[encoded data removed]"
          },
          "metadata": {}
        }
      ]
    },
    {
      "cell_type": "code",
      "source": [
        "target_names = ['Galaxy','Qasar','Star']\n",
        "print(classification_report(y_test,nn_test,target_names=target_names))"
      ],
      "metadata": {
        "colab": {
          "base_uri": "https://localhost:8080/"
        },
        "id": "EOv-KppQJarU",
        "outputId": "cc94a0c1-70b4-4682-c9dc-c8a2dfb4f044"
      },
      "execution_count": null,
      "outputs": [
        {
          "output_type": "stream",
          "name": "stdout",
          "text": [
            "              precision    recall  f1-score   support\n",
            "\n",
            "      Galaxy       0.98      0.97      0.97     11836\n",
            "       Qasar       0.94      0.95      0.94      3795\n",
            "        Star       0.97      1.00      0.98      4369\n",
            "\n",
            "    accuracy                           0.97     20000\n",
            "   macro avg       0.96      0.97      0.97     20000\n",
            "weighted avg       0.97      0.97      0.97     20000\n",
            "\n"
          ]
        }
      ]
    },
    {
      "cell_type": "markdown",
      "source": [
        "From the model results, we can infer that NN model gives the best results"
      ],
      "metadata": {
        "id": "J9y7Hr6B-LtW"
      }
    },
    {
      "cell_type": "markdown",
      "source": [
        "## Identifying Important Features"
      ],
      "metadata": {
        "id": "MuKt0lVGXQGh"
      }
    },
    {
      "cell_type": "code",
      "source": [
        "def get_feature_importance(j, n):\n",
        "  s = accuracy_score(y_test, nn_test) # baseline score\n",
        "  total = 0.0\n",
        "  for i in range(n):\n",
        "    perm = np.random.permutation(range(X_test.shape[0]))\n",
        "    X_test_ = X_test.copy()\n",
        "    X_test_[:, j] = X_test[perm, j]\n",
        "    y_pred_ = clf.predict(X_test_)\n",
        "    s_ij = accuracy_score(y_test, y_pred_)\n",
        "    total += s_ij\n",
        "  return s - total / n"
      ],
      "metadata": {
        "id": "zcjoK1HgkjnO"
      },
      "execution_count": null,
      "outputs": []
    },
    {
      "cell_type": "code",
      "source": [
        "# Feature importances\n",
        "f = []\n",
        "for j in range(X_test.shape[1]):\n",
        "  f_j = get_feature_importance(j, 100)\n",
        "  f.append(f_j)# Plot"
      ],
      "metadata": {
        "id": "DG3IxRjdkXkl"
      },
      "execution_count": null,
      "outputs": []
    },
    {
      "cell_type": "code",
      "source": [
        "plt.figure(figsize=(10, 5))\n",
        "plt.bar(list(x.columns), f, color=\"r\", alpha=0.7)\n",
        "plt.xticks(ticks=range(X_test.shape[1]))\n",
        "plt.xlabel(\"Feature\")\n",
        "plt.ylabel(\"Importance\")\n",
        "plt.title(\"Feature importances\")\n",
        "plt.show()"
      ],
      "metadata": {
        "colab": {
          "base_uri": "https://localhost:8080/",
          "height": 365
        },
        "id": "vgSn9Aibk7eV",
        "outputId": "fc2a7902-4f38-4828-cba2-607469ff5272"
      },
      "execution_count": null,
      "outputs": [
        {
          "output_type": "display_data",
          "data": {
            "text/plain": [
              "<Figure size 720x360 with 1 Axes>"
            ],
            "image/png": "[encoded data removed]"
          },
          "metadata": {}
        }
      ]
    }
  ]
}